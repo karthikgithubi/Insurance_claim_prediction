{
 "cells": [
  {
   "cell_type": "markdown",
   "metadata": {},
   "source": [
    " \n",
    "## 1. Karthik GH - E22020\n"
   ]
  },
  {
   "cell_type": "markdown",
   "metadata": {},
   "source": [
    "# Business problem "
   ]
  },
  {
   "cell_type": "markdown",
   "metadata": {},
   "source": [
    "Insurance is a product sold by insurance companies, which insures the customers stability by transferring loss risk over to the company. The challenge of the insurance companies however is the arbitrary nature of events that cause loss, and many times these losses cost a considerable amount. \n",
    "\n",
    "The fundamental goal of this project is to predict the expected claim amount which will be given to the policy holder based on data obtained from the comapny. We are asked to produce a pricing model to predict claim amount  of policy holders, and we are to be evaluated on the model performance using the MAPE.\n",
    "\n",
    "MAPE = (1 / sample size) x ∑[( |actual - forecast| ) / |actual| ] x 100"
   ]
  },
  {
   "cell_type": "markdown",
   "metadata": {},
   "source": [
    "# Need for this study"
   ]
  },
  {
   "cell_type": "markdown",
   "metadata": {},
   "source": [
    "The scope of this project is to produce predictions for claim based on insurance data. \n",
    "\n",
    "The data was provided to us by Health Insurance Company.\n",
    "\n",
    "The study of data will generate more insights\n",
    "\n",
    "\n",
    "And to stablize the business through customer satisfaction, and to have a positive Return of Investment for the comapny."
   ]
  },
  {
   "cell_type": "markdown",
   "metadata": {},
   "source": [
    "# Data Appreciation\n"
   ]
  },
  {
   "cell_type": "code",
   "execution_count": 108,
   "metadata": {},
   "outputs": [],
   "source": [
    "# Cleaning the data is done in data appreciation part. \n",
    "\n",
    "# importing the dependencies \n",
    "\n",
    "import numpy as np\n",
    "import pandas as pd\n",
    "import seaborn as sns\n",
    "import matplotlib.pyplot as plt\n",
    "from scipy import stats\n",
    "from scipy.stats import norm"
   ]
  },
  {
   "cell_type": "code",
   "execution_count": 109,
   "metadata": {},
   "outputs": [
    {
     "data": {
      "text/html": [
       "<div>\n",
       "<style scoped>\n",
       "    .dataframe tbody tr th:only-of-type {\n",
       "        vertical-align: middle;\n",
       "    }\n",
       "\n",
       "    .dataframe tbody tr th {\n",
       "        vertical-align: top;\n",
       "    }\n",
       "\n",
       "    .dataframe thead th {\n",
       "        text-align: right;\n",
       "    }\n",
       "</style>\n",
       "<table border=\"1\" class=\"dataframe\">\n",
       "  <thead>\n",
       "    <tr style=\"text-align: right;\">\n",
       "      <th></th>\n",
       "      <th>PatientID</th>\n",
       "      <th>age</th>\n",
       "      <th>gender</th>\n",
       "      <th>bmi</th>\n",
       "      <th>bloodpressure</th>\n",
       "      <th>diabetic</th>\n",
       "      <th>children</th>\n",
       "      <th>smoker</th>\n",
       "      <th>region</th>\n",
       "      <th>claim</th>\n",
       "    </tr>\n",
       "  </thead>\n",
       "  <tbody>\n",
       "    <tr>\n",
       "      <th>0</th>\n",
       "      <td>1</td>\n",
       "      <td>39.0</td>\n",
       "      <td>male</td>\n",
       "      <td>23.2</td>\n",
       "      <td>91</td>\n",
       "      <td>Yes</td>\n",
       "      <td>0</td>\n",
       "      <td>No</td>\n",
       "      <td>southeast</td>\n",
       "      <td>1121.87</td>\n",
       "    </tr>\n",
       "    <tr>\n",
       "      <th>1</th>\n",
       "      <td>2</td>\n",
       "      <td>24.0</td>\n",
       "      <td>male</td>\n",
       "      <td>30.1</td>\n",
       "      <td>87</td>\n",
       "      <td>No</td>\n",
       "      <td>0</td>\n",
       "      <td>No</td>\n",
       "      <td>southeast</td>\n",
       "      <td>1131.51</td>\n",
       "    </tr>\n",
       "    <tr>\n",
       "      <th>2</th>\n",
       "      <td>3</td>\n",
       "      <td>NaN</td>\n",
       "      <td>male</td>\n",
       "      <td>33.3</td>\n",
       "      <td>82</td>\n",
       "      <td>Yes</td>\n",
       "      <td>0</td>\n",
       "      <td>No</td>\n",
       "      <td>southeast</td>\n",
       "      <td>1135.94</td>\n",
       "    </tr>\n",
       "    <tr>\n",
       "      <th>3</th>\n",
       "      <td>4</td>\n",
       "      <td>NaN</td>\n",
       "      <td>male</td>\n",
       "      <td>33.7</td>\n",
       "      <td>80</td>\n",
       "      <td>No</td>\n",
       "      <td>0</td>\n",
       "      <td>No</td>\n",
       "      <td>northwest</td>\n",
       "      <td>1136.40</td>\n",
       "    </tr>\n",
       "    <tr>\n",
       "      <th>4</th>\n",
       "      <td>5</td>\n",
       "      <td>NaN</td>\n",
       "      <td>male</td>\n",
       "      <td>34.1</td>\n",
       "      <td>100</td>\n",
       "      <td>No</td>\n",
       "      <td>0</td>\n",
       "      <td>No</td>\n",
       "      <td>northwest</td>\n",
       "      <td>1137.01</td>\n",
       "    </tr>\n",
       "  </tbody>\n",
       "</table>\n",
       "</div>"
      ],
      "text/plain": [
       "   PatientID   age gender   bmi  bloodpressure diabetic  children smoker  \\\n",
       "0          1  39.0   male  23.2             91      Yes         0     No   \n",
       "1          2  24.0   male  30.1             87       No         0     No   \n",
       "2          3   NaN   male  33.3             82      Yes         0     No   \n",
       "3          4   NaN   male  33.7             80       No         0     No   \n",
       "4          5   NaN   male  34.1            100       No         0     No   \n",
       "\n",
       "      region    claim  \n",
       "0  southeast  1121.87  \n",
       "1  southeast  1131.51  \n",
       "2  southeast  1135.94  \n",
       "3  northwest  1136.40  \n",
       "4  northwest  1137.01  "
      ]
     },
     "execution_count": 109,
     "metadata": {},
     "output_type": "execute_result"
    }
   ],
   "source": [
    "# importing the dataset\n",
    "\n",
    "df = pd.read_csv(\"C:\\\\Users\\\\SARANYA B\\\\Desktop\\\\PPP\\\\insurance_data.csv\")\n",
    "df.head()"
   ]
  },
  {
   "cell_type": "code",
   "execution_count": 110,
   "metadata": {},
   "outputs": [
    {
     "data": {
      "text/plain": [
       "PatientID        0\n",
       "age              5\n",
       "gender           0\n",
       "bmi              0\n",
       "bloodpressure    0\n",
       "diabetic         0\n",
       "children         0\n",
       "smoker           0\n",
       "region           3\n",
       "claim            0\n",
       "dtype: int64"
      ]
     },
     "execution_count": 110,
     "metadata": {},
     "output_type": "execute_result"
    }
   ],
   "source": [
    "df.isnull().sum() # gives the missing value count per columns "
   ]
  },
  {
   "cell_type": "code",
   "execution_count": 111,
   "metadata": {},
   "outputs": [],
   "source": [
    "df[\"age\"] = df[\"age\"].fillna(df['age'].mean())\n",
    "df['region'] = df['region'].fillna(df['region'].mode())"
   ]
  },
  {
   "cell_type": "code",
   "execution_count": 112,
   "metadata": {},
   "outputs": [
    {
     "data": {
      "text/html": [
       "<div>\n",
       "<style scoped>\n",
       "    .dataframe tbody tr th:only-of-type {\n",
       "        vertical-align: middle;\n",
       "    }\n",
       "\n",
       "    .dataframe tbody tr th {\n",
       "        vertical-align: top;\n",
       "    }\n",
       "\n",
       "    .dataframe thead th {\n",
       "        text-align: right;\n",
       "    }\n",
       "</style>\n",
       "<table border=\"1\" class=\"dataframe\">\n",
       "  <thead>\n",
       "    <tr style=\"text-align: right;\">\n",
       "      <th></th>\n",
       "      <th>PatientID</th>\n",
       "      <th>age</th>\n",
       "      <th>gender</th>\n",
       "      <th>bmi</th>\n",
       "      <th>bloodpressure</th>\n",
       "      <th>diabetic</th>\n",
       "      <th>children</th>\n",
       "      <th>smoker</th>\n",
       "      <th>region</th>\n",
       "      <th>claim</th>\n",
       "    </tr>\n",
       "  </thead>\n",
       "  <tbody>\n",
       "    <tr>\n",
       "      <th>0</th>\n",
       "      <td>1</td>\n",
       "      <td>39.000000</td>\n",
       "      <td>male</td>\n",
       "      <td>23.2</td>\n",
       "      <td>91</td>\n",
       "      <td>Yes</td>\n",
       "      <td>0</td>\n",
       "      <td>No</td>\n",
       "      <td>southeast</td>\n",
       "      <td>1121.87</td>\n",
       "    </tr>\n",
       "    <tr>\n",
       "      <th>1</th>\n",
       "      <td>2</td>\n",
       "      <td>24.000000</td>\n",
       "      <td>male</td>\n",
       "      <td>30.1</td>\n",
       "      <td>87</td>\n",
       "      <td>No</td>\n",
       "      <td>0</td>\n",
       "      <td>No</td>\n",
       "      <td>southeast</td>\n",
       "      <td>1131.51</td>\n",
       "    </tr>\n",
       "    <tr>\n",
       "      <th>2</th>\n",
       "      <td>3</td>\n",
       "      <td>38.078652</td>\n",
       "      <td>male</td>\n",
       "      <td>33.3</td>\n",
       "      <td>82</td>\n",
       "      <td>Yes</td>\n",
       "      <td>0</td>\n",
       "      <td>No</td>\n",
       "      <td>southeast</td>\n",
       "      <td>1135.94</td>\n",
       "    </tr>\n",
       "    <tr>\n",
       "      <th>3</th>\n",
       "      <td>4</td>\n",
       "      <td>38.078652</td>\n",
       "      <td>male</td>\n",
       "      <td>33.7</td>\n",
       "      <td>80</td>\n",
       "      <td>No</td>\n",
       "      <td>0</td>\n",
       "      <td>No</td>\n",
       "      <td>northwest</td>\n",
       "      <td>1136.40</td>\n",
       "    </tr>\n",
       "    <tr>\n",
       "      <th>4</th>\n",
       "      <td>5</td>\n",
       "      <td>38.078652</td>\n",
       "      <td>male</td>\n",
       "      <td>34.1</td>\n",
       "      <td>100</td>\n",
       "      <td>No</td>\n",
       "      <td>0</td>\n",
       "      <td>No</td>\n",
       "      <td>northwest</td>\n",
       "      <td>1137.01</td>\n",
       "    </tr>\n",
       "  </tbody>\n",
       "</table>\n",
       "</div>"
      ],
      "text/plain": [
       "   PatientID        age gender   bmi  bloodpressure diabetic  children smoker  \\\n",
       "0          1  39.000000   male  23.2             91      Yes         0     No   \n",
       "1          2  24.000000   male  30.1             87       No         0     No   \n",
       "2          3  38.078652   male  33.3             82      Yes         0     No   \n",
       "3          4  38.078652   male  33.7             80       No         0     No   \n",
       "4          5  38.078652   male  34.1            100       No         0     No   \n",
       "\n",
       "      region    claim  \n",
       "0  southeast  1121.87  \n",
       "1  southeast  1131.51  \n",
       "2  southeast  1135.94  \n",
       "3  northwest  1136.40  \n",
       "4  northwest  1137.01  "
      ]
     },
     "execution_count": 112,
     "metadata": {},
     "output_type": "execute_result"
    }
   ],
   "source": [
    "df.head()"
   ]
  },
  {
   "cell_type": "code",
   "execution_count": 113,
   "metadata": {},
   "outputs": [],
   "source": [
    "#df_new = df.fillna(method = \"ffill\")"
   ]
  },
  {
   "cell_type": "code",
   "execution_count": 114,
   "metadata": {},
   "outputs": [],
   "source": [
    "#df_new.head()"
   ]
  },
  {
   "cell_type": "code",
   "execution_count": 115,
   "metadata": {},
   "outputs": [
    {
     "data": {
      "text/plain": [
       "PatientID          int64\n",
       "age              float64\n",
       "gender            object\n",
       "bmi              float64\n",
       "bloodpressure      int64\n",
       "diabetic          object\n",
       "children           int64\n",
       "smoker            object\n",
       "region            object\n",
       "claim            float64\n",
       "dtype: object"
      ]
     },
     "execution_count": 115,
     "metadata": {},
     "output_type": "execute_result"
    }
   ],
   "source": [
    "df.dtypes"
   ]
  },
  {
   "cell_type": "code",
   "execution_count": 116,
   "metadata": {},
   "outputs": [],
   "source": [
    "#df_new.columns"
   ]
  },
  {
   "cell_type": "code",
   "execution_count": 117,
   "metadata": {},
   "outputs": [],
   "source": [
    "#  Observation :  age and region were having null values in the data \n",
    "# to impute the null values we use  from sklearn.impute import SimpleImputer"
   ]
  },
  {
   "cell_type": "code",
   "execution_count": 118,
   "metadata": {},
   "outputs": [],
   "source": [
    "#from sklearn.impute import SimpleImputer # from the sklearn library importing simple imputer\n",
    "#imp = SimpleImputer(strategy=\"most_frequent\")\n",
    "#df1 = imp.fit_transform(df) # simple imputer converts df1 as numpy array  without null values "
   ]
  },
  {
   "cell_type": "code",
   "execution_count": 119,
   "metadata": {},
   "outputs": [],
   "source": [
    "#print(df1) # printing df1 "
   ]
  },
  {
   "cell_type": "code",
   "execution_count": 120,
   "metadata": {},
   "outputs": [],
   "source": [
    "# Converting the Numpy array back to Dataframe and assigning the variabe as df_clean\n",
    "#df_clean = pd.DataFrame(df1,columns=['PatientID', 'age', 'gender', 'bmi', 'bloodpressure', 'diabetic','children', 'smoker', 'region', 'claim'])"
   ]
  },
  {
   "cell_type": "code",
   "execution_count": 121,
   "metadata": {},
   "outputs": [],
   "source": [
    "#df_clean.head()  # getting the first 5 rows of the dataset."
   ]
  },
  {
   "cell_type": "code",
   "execution_count": 122,
   "metadata": {},
   "outputs": [],
   "source": [
    "# checking for null values again \n",
    "\n",
    "#df_clean.isnull().sum() # There are no  missing values in the dataset."
   ]
  },
  {
   "cell_type": "markdown",
   "metadata": {},
   "source": [
    "# EDA"
   ]
  },
  {
   "cell_type": "markdown",
   "metadata": {},
   "source": [
    "### Univariate Analysis"
   ]
  },
  {
   "cell_type": "code",
   "execution_count": 123,
   "metadata": {},
   "outputs": [
    {
     "data": {
      "text/plain": [
       "(1340, 10)"
      ]
     },
     "execution_count": 123,
     "metadata": {},
     "output_type": "execute_result"
    }
   ],
   "source": [
    "df.shape # Giving the Row and Column size "
   ]
  },
  {
   "cell_type": "code",
   "execution_count": 124,
   "metadata": {},
   "outputs": [
    {
     "data": {
      "text/html": [
       "<div>\n",
       "<style scoped>\n",
       "    .dataframe tbody tr th:only-of-type {\n",
       "        vertical-align: middle;\n",
       "    }\n",
       "\n",
       "    .dataframe tbody tr th {\n",
       "        vertical-align: top;\n",
       "    }\n",
       "\n",
       "    .dataframe thead th {\n",
       "        text-align: right;\n",
       "    }\n",
       "</style>\n",
       "<table border=\"1\" class=\"dataframe\">\n",
       "  <thead>\n",
       "    <tr style=\"text-align: right;\">\n",
       "      <th></th>\n",
       "      <th>PatientID</th>\n",
       "      <th>age</th>\n",
       "      <th>bmi</th>\n",
       "      <th>bloodpressure</th>\n",
       "      <th>children</th>\n",
       "      <th>claim</th>\n",
       "    </tr>\n",
       "  </thead>\n",
       "  <tbody>\n",
       "    <tr>\n",
       "      <th>count</th>\n",
       "      <td>1340.000000</td>\n",
       "      <td>1340.000000</td>\n",
       "      <td>1340.000000</td>\n",
       "      <td>1340.000000</td>\n",
       "      <td>1340.000000</td>\n",
       "      <td>1340.000000</td>\n",
       "    </tr>\n",
       "    <tr>\n",
       "      <th>mean</th>\n",
       "      <td>670.500000</td>\n",
       "      <td>38.078652</td>\n",
       "      <td>30.668955</td>\n",
       "      <td>94.157463</td>\n",
       "      <td>1.093284</td>\n",
       "      <td>13252.745642</td>\n",
       "    </tr>\n",
       "    <tr>\n",
       "      <th>std</th>\n",
       "      <td>386.968991</td>\n",
       "      <td>11.082175</td>\n",
       "      <td>6.106735</td>\n",
       "      <td>11.434712</td>\n",
       "      <td>1.205334</td>\n",
       "      <td>12109.609288</td>\n",
       "    </tr>\n",
       "    <tr>\n",
       "      <th>min</th>\n",
       "      <td>1.000000</td>\n",
       "      <td>18.000000</td>\n",
       "      <td>16.000000</td>\n",
       "      <td>80.000000</td>\n",
       "      <td>0.000000</td>\n",
       "      <td>1121.870000</td>\n",
       "    </tr>\n",
       "    <tr>\n",
       "      <th>25%</th>\n",
       "      <td>335.750000</td>\n",
       "      <td>29.000000</td>\n",
       "      <td>26.275000</td>\n",
       "      <td>86.000000</td>\n",
       "      <td>0.000000</td>\n",
       "      <td>4719.685000</td>\n",
       "    </tr>\n",
       "    <tr>\n",
       "      <th>50%</th>\n",
       "      <td>670.500000</td>\n",
       "      <td>38.000000</td>\n",
       "      <td>30.400000</td>\n",
       "      <td>92.000000</td>\n",
       "      <td>1.000000</td>\n",
       "      <td>9369.615000</td>\n",
       "    </tr>\n",
       "    <tr>\n",
       "      <th>75%</th>\n",
       "      <td>1005.250000</td>\n",
       "      <td>47.000000</td>\n",
       "      <td>34.700000</td>\n",
       "      <td>99.000000</td>\n",
       "      <td>2.000000</td>\n",
       "      <td>16604.305000</td>\n",
       "    </tr>\n",
       "    <tr>\n",
       "      <th>max</th>\n",
       "      <td>1340.000000</td>\n",
       "      <td>60.000000</td>\n",
       "      <td>53.100000</td>\n",
       "      <td>140.000000</td>\n",
       "      <td>5.000000</td>\n",
       "      <td>63770.430000</td>\n",
       "    </tr>\n",
       "  </tbody>\n",
       "</table>\n",
       "</div>"
      ],
      "text/plain": [
       "         PatientID          age          bmi  bloodpressure     children  \\\n",
       "count  1340.000000  1340.000000  1340.000000    1340.000000  1340.000000   \n",
       "mean    670.500000    38.078652    30.668955      94.157463     1.093284   \n",
       "std     386.968991    11.082175     6.106735      11.434712     1.205334   \n",
       "min       1.000000    18.000000    16.000000      80.000000     0.000000   \n",
       "25%     335.750000    29.000000    26.275000      86.000000     0.000000   \n",
       "50%     670.500000    38.000000    30.400000      92.000000     1.000000   \n",
       "75%    1005.250000    47.000000    34.700000      99.000000     2.000000   \n",
       "max    1340.000000    60.000000    53.100000     140.000000     5.000000   \n",
       "\n",
       "              claim  \n",
       "count   1340.000000  \n",
       "mean   13252.745642  \n",
       "std    12109.609288  \n",
       "min     1121.870000  \n",
       "25%     4719.685000  \n",
       "50%     9369.615000  \n",
       "75%    16604.305000  \n",
       "max    63770.430000  "
      ]
     },
     "execution_count": 124,
     "metadata": {},
     "output_type": "execute_result"
    }
   ],
   "source": [
    "df.describe() # finding the summary statistics for the numerical data."
   ]
  },
  {
   "cell_type": "code",
   "execution_count": 125,
   "metadata": {},
   "outputs": [
    {
     "data": {
      "text/html": [
       "<div>\n",
       "<style scoped>\n",
       "    .dataframe tbody tr th:only-of-type {\n",
       "        vertical-align: middle;\n",
       "    }\n",
       "\n",
       "    .dataframe tbody tr th {\n",
       "        vertical-align: top;\n",
       "    }\n",
       "\n",
       "    .dataframe thead th {\n",
       "        text-align: right;\n",
       "    }\n",
       "</style>\n",
       "<table border=\"1\" class=\"dataframe\">\n",
       "  <thead>\n",
       "    <tr style=\"text-align: right;\">\n",
       "      <th></th>\n",
       "      <th>gender</th>\n",
       "      <th>diabetic</th>\n",
       "      <th>smoker</th>\n",
       "      <th>region</th>\n",
       "    </tr>\n",
       "  </thead>\n",
       "  <tbody>\n",
       "    <tr>\n",
       "      <th>count</th>\n",
       "      <td>1340</td>\n",
       "      <td>1340</td>\n",
       "      <td>1340</td>\n",
       "      <td>1337</td>\n",
       "    </tr>\n",
       "    <tr>\n",
       "      <th>unique</th>\n",
       "      <td>2</td>\n",
       "      <td>2</td>\n",
       "      <td>2</td>\n",
       "      <td>4</td>\n",
       "    </tr>\n",
       "    <tr>\n",
       "      <th>top</th>\n",
       "      <td>male</td>\n",
       "      <td>No</td>\n",
       "      <td>No</td>\n",
       "      <td>southeast</td>\n",
       "    </tr>\n",
       "    <tr>\n",
       "      <th>freq</th>\n",
       "      <td>678</td>\n",
       "      <td>698</td>\n",
       "      <td>1066</td>\n",
       "      <td>443</td>\n",
       "    </tr>\n",
       "  </tbody>\n",
       "</table>\n",
       "</div>"
      ],
      "text/plain": [
       "       gender diabetic smoker     region\n",
       "count    1340     1340   1340       1337\n",
       "unique      2        2      2          4\n",
       "top      male       No     No  southeast\n",
       "freq      678      698   1066        443"
      ]
     },
     "execution_count": 125,
     "metadata": {},
     "output_type": "execute_result"
    }
   ],
   "source": [
    "df.describe(include = [\"object\"]) # finding the summary statistic for object data type."
   ]
  },
  {
   "cell_type": "markdown",
   "metadata": {},
   "source": [
    "# Data Visuvilization"
   ]
  },
  {
   "cell_type": "markdown",
   "metadata": {},
   "source": [
    "### 1. Which area is having the highest Policy holders in percentage ?"
   ]
  },
  {
   "cell_type": "code",
   "execution_count": 23,
   "metadata": {},
   "outputs": [
    {
     "data": {
      "text/plain": [
       "Index(['southeast', 'northwest', 'southwest', 'northeast'], dtype='object')"
      ]
     },
     "execution_count": 23,
     "metadata": {},
     "output_type": "execute_result"
    }
   ],
   "source": [
    "# ploting pie-chart for regions to study the distribution on data across the regions.\n",
    "Region_index = df.region.value_counts().index   # seperating the index of region and saving in Region_index\n",
    "Region_index"
   ]
  },
  {
   "cell_type": "code",
   "execution_count": 24,
   "metadata": {},
   "outputs": [
    {
     "data": {
      "text/plain": [
       "array([443, 349, 314, 231], dtype=int64)"
      ]
     },
     "execution_count": 24,
     "metadata": {},
     "output_type": "execute_result"
    }
   ],
   "source": [
    "Region_values = df.region.value_counts().values # seperating the values of region and saving in Region_values\n",
    "Region_values"
   ]
  },
  {
   "cell_type": "code",
   "execution_count": 25,
   "metadata": {},
   "outputs": [
    {
     "data": {
      "image/png": "[encoded data removed]",
      "text/plain": [
       "<Figure size 432x288 with 1 Axes>"
      ]
     },
     "metadata": {},
     "output_type": "display_data"
    }
   ],
   "source": [
    "plt.pie(Region_values,labels = Region_index,autopct = \"%1.1f%%\") # ploting pie-chart on Region_index and Region_values.\n",
    "plt.show() "
   ]
  },
  {
   "cell_type": "markdown",
   "metadata": {},
   "source": [
    "IN particular order Southeast has the maxium policy holders followed by Northwest,Southwest and Northeast"
   ]
  },
  {
   "cell_type": "markdown",
   "metadata": {},
   "source": [
    "### 2. How many percentage of Smokers and Non-Smokers are there in the data ? and who ocupy more share in the data."
   ]
  },
  {
   "cell_type": "code",
   "execution_count": 26,
   "metadata": {},
   "outputs": [],
   "source": [
    "# plotting pie-chart to study the distribution of policyholders across smokers and non-smokers "
   ]
  },
  {
   "cell_type": "code",
   "execution_count": 27,
   "metadata": {},
   "outputs": [
    {
     "data": {
      "text/plain": [
       "Index(['No', 'Yes'], dtype='object')"
      ]
     },
     "execution_count": 27,
     "metadata": {},
     "output_type": "execute_result"
    }
   ],
   "source": [
    "Smoker_index = df.smoker.value_counts().index # Seperating the index in the smokers data \n",
    "Smoker_index"
   ]
  },
  {
   "cell_type": "code",
   "execution_count": 28,
   "metadata": {},
   "outputs": [
    {
     "data": {
      "text/plain": [
       "array([1066,  274], dtype=int64)"
      ]
     },
     "execution_count": 28,
     "metadata": {},
     "output_type": "execute_result"
    }
   ],
   "source": [
    "Smoker_values = df.smoker.value_counts().values # Seperating the values of smokers and non-smokers in the data \n",
    "Smoker_values"
   ]
  },
  {
   "cell_type": "code",
   "execution_count": 29,
   "metadata": {},
   "outputs": [
    {
     "data": {
      "image/png": "[encoded data removed]",
      "text/plain": [
       "<Figure size 432x288 with 1 Axes>"
      ]
     },
     "metadata": {},
     "output_type": "display_data"
    }
   ],
   "source": [
    "plt.pie(Smoker_values,labels = Smoker_index,autopct = \"%1.1f%%\")  # ploting the pie-chart for smokers and non-smokers % with 1 decimal point\n",
    "plt.show()"
   ]
  },
  {
   "cell_type": "markdown",
   "metadata": {},
   "source": [
    "About 80% of policyholders are Non-Smokers and 20 % of policyholders are smokers."
   ]
  },
  {
   "cell_type": "markdown",
   "metadata": {},
   "source": [
    "### 3. How many percentage of Diabetic and Non-Diabetic Policy holders are there in the data ? and who ocupy more share in the data."
   ]
  },
  {
   "cell_type": "code",
   "execution_count": 30,
   "metadata": {},
   "outputs": [
    {
     "data": {
      "text/plain": [
       "Index(['No', 'Yes'], dtype='object')"
      ]
     },
     "execution_count": 30,
     "metadata": {},
     "output_type": "execute_result"
    }
   ],
   "source": [
    "# plotting pie-chart to study the distribution of policyholders having and not-having diabetic\n",
    "Diab_index = df.diabetic.value_counts().index # Seperating the diabetic index from the data\n",
    "Diab_index"
   ]
  },
  {
   "cell_type": "code",
   "execution_count": 31,
   "metadata": {},
   "outputs": [
    {
     "data": {
      "text/plain": [
       "array([698, 642], dtype=int64)"
      ]
     },
     "execution_count": 31,
     "metadata": {},
     "output_type": "execute_result"
    }
   ],
   "source": [
    "Diab_val = df.diabetic.value_counts().values # Seperating the diabetic values  from the data\n",
    "Diab_val"
   ]
  },
  {
   "cell_type": "code",
   "execution_count": 32,
   "metadata": {},
   "outputs": [
    {
     "data": {
      "image/png": "[encoded data removed]",
      "text/plain": [
       "<Figure size 432x288 with 1 Axes>"
      ]
     },
     "metadata": {},
     "output_type": "display_data"
    }
   ],
   "source": [
    "plt.pie(Diab_val, labels = Diab_index,autopct = \"%1.1f%%\") # ploting the pie-chart for the diabetic data with 1 decimal point.\n",
    "plt.show()"
   ]
  },
  {
   "cell_type": "markdown",
   "metadata": {},
   "source": [
    "About 52% policy holders are not diabetic and 48% of policyholders are diabetic this shows the data is equally distributed with Diabetic and Non Diabetic policy holders"
   ]
  },
  {
   "cell_type": "markdown",
   "metadata": {},
   "source": [
    "### 4. How many percentage of Male and FemalePolicy holders are there in the data ? and who ocupy more share in the data."
   ]
  },
  {
   "cell_type": "code",
   "execution_count": 33,
   "metadata": {},
   "outputs": [
    {
     "data": {
      "text/plain": [
       "Index(['male', 'female'], dtype='object')"
      ]
     },
     "execution_count": 33,
     "metadata": {},
     "output_type": "execute_result"
    }
   ],
   "source": [
    "# ploting pie-chart to find the gender distribution \n",
    "Gen_Index = df.gender.value_counts().index # Seperating the index for the gender\n",
    "Gen_Index"
   ]
  },
  {
   "cell_type": "code",
   "execution_count": 34,
   "metadata": {},
   "outputs": [
    {
     "data": {
      "text/plain": [
       "array([678, 662], dtype=int64)"
      ]
     },
     "execution_count": 34,
     "metadata": {},
     "output_type": "execute_result"
    }
   ],
   "source": [
    "Gen_val = df.gender.value_counts().values # Seperating the values for the gender \n",
    "Gen_val"
   ]
  },
  {
   "cell_type": "code",
   "execution_count": 35,
   "metadata": {},
   "outputs": [
    {
     "data": {
      "image/png": "[encoded data removed]",
      "text/plain": [
       "<Figure size 432x288 with 1 Axes>"
      ]
     },
     "metadata": {},
     "output_type": "display_data"
    }
   ],
   "source": [
    "# Ploting the pie chart to visualize the gender data \n",
    "plt.pie(Gen_val,labels = Gen_Index, autopct = \"%1.1f%%\") # Plotting the distribution of the gender data in % with 1 decimal point\n",
    "plt.show()"
   ]
  },
  {
   "cell_type": "markdown",
   "metadata": {},
   "source": [
    "Male Policy holders are slightly more than the Female holders."
   ]
  },
  {
   "cell_type": "code",
   "execution_count": 126,
   "metadata": {},
   "outputs": [],
   "source": [
    "# Seperating the Features of int type and object type seperately \n",
    "\n",
    "df_numeric = df.select_dtypes(exclude = 'object') # excluding the object data type variables \n",
    "df_categ = df.select_dtypes(include = 'object') # including only the onject datatypes "
   ]
  },
  {
   "cell_type": "code",
   "execution_count": 127,
   "metadata": {},
   "outputs": [
    {
     "name": "stderr",
     "output_type": "stream",
     "text": [
      "C:\\Users\\SARANYA B\\anaconda3\\lib\\site-packages\\pandas\\core\\frame.py:3997: SettingWithCopyWarning: \n",
      "A value is trying to be set on a copy of a slice from a DataFrame\n",
      "\n",
      "See the caveats in the documentation: https://pandas.pydata.org/pandas-docs/stable/user_guide/indexing.html#returning-a-view-versus-a-copy\n",
      "  errors=errors,\n"
     ]
    }
   ],
   "source": [
    "df_numeric.drop(\"PatientID\", axis=1, inplace=True) # Droping the patient ID as this is an index column."
   ]
  },
  {
   "cell_type": "code",
   "execution_count": 128,
   "metadata": {},
   "outputs": [
    {
     "data": {
      "text/html": [
       "<div>\n",
       "<style scoped>\n",
       "    .dataframe tbody tr th:only-of-type {\n",
       "        vertical-align: middle;\n",
       "    }\n",
       "\n",
       "    .dataframe tbody tr th {\n",
       "        vertical-align: top;\n",
       "    }\n",
       "\n",
       "    .dataframe thead th {\n",
       "        text-align: right;\n",
       "    }\n",
       "</style>\n",
       "<table border=\"1\" class=\"dataframe\">\n",
       "  <thead>\n",
       "    <tr style=\"text-align: right;\">\n",
       "      <th></th>\n",
       "      <th>age</th>\n",
       "      <th>bmi</th>\n",
       "      <th>bloodpressure</th>\n",
       "      <th>children</th>\n",
       "      <th>claim</th>\n",
       "    </tr>\n",
       "  </thead>\n",
       "  <tbody>\n",
       "    <tr>\n",
       "      <th>0</th>\n",
       "      <td>39.000000</td>\n",
       "      <td>23.2</td>\n",
       "      <td>91</td>\n",
       "      <td>0</td>\n",
       "      <td>1121.87</td>\n",
       "    </tr>\n",
       "    <tr>\n",
       "      <th>1</th>\n",
       "      <td>24.000000</td>\n",
       "      <td>30.1</td>\n",
       "      <td>87</td>\n",
       "      <td>0</td>\n",
       "      <td>1131.51</td>\n",
       "    </tr>\n",
       "    <tr>\n",
       "      <th>2</th>\n",
       "      <td>38.078652</td>\n",
       "      <td>33.3</td>\n",
       "      <td>82</td>\n",
       "      <td>0</td>\n",
       "      <td>1135.94</td>\n",
       "    </tr>\n",
       "    <tr>\n",
       "      <th>3</th>\n",
       "      <td>38.078652</td>\n",
       "      <td>33.7</td>\n",
       "      <td>80</td>\n",
       "      <td>0</td>\n",
       "      <td>1136.40</td>\n",
       "    </tr>\n",
       "    <tr>\n",
       "      <th>4</th>\n",
       "      <td>38.078652</td>\n",
       "      <td>34.1</td>\n",
       "      <td>100</td>\n",
       "      <td>0</td>\n",
       "      <td>1137.01</td>\n",
       "    </tr>\n",
       "  </tbody>\n",
       "</table>\n",
       "</div>"
      ],
      "text/plain": [
       "         age   bmi  bloodpressure  children    claim\n",
       "0  39.000000  23.2             91         0  1121.87\n",
       "1  24.000000  30.1             87         0  1131.51\n",
       "2  38.078652  33.3             82         0  1135.94\n",
       "3  38.078652  33.7             80         0  1136.40\n",
       "4  38.078652  34.1            100         0  1137.01"
      ]
     },
     "execution_count": 128,
     "metadata": {},
     "output_type": "execute_result"
    }
   ],
   "source": [
    "df_numeric.head()"
   ]
  },
  {
   "cell_type": "code",
   "execution_count": 129,
   "metadata": {},
   "outputs": [
    {
     "data": {
      "text/html": [
       "<div>\n",
       "<style scoped>\n",
       "    .dataframe tbody tr th:only-of-type {\n",
       "        vertical-align: middle;\n",
       "    }\n",
       "\n",
       "    .dataframe tbody tr th {\n",
       "        vertical-align: top;\n",
       "    }\n",
       "\n",
       "    .dataframe thead th {\n",
       "        text-align: right;\n",
       "    }\n",
       "</style>\n",
       "<table border=\"1\" class=\"dataframe\">\n",
       "  <thead>\n",
       "    <tr style=\"text-align: right;\">\n",
       "      <th></th>\n",
       "      <th>gender</th>\n",
       "      <th>diabetic</th>\n",
       "      <th>smoker</th>\n",
       "      <th>region</th>\n",
       "    </tr>\n",
       "  </thead>\n",
       "  <tbody>\n",
       "    <tr>\n",
       "      <th>0</th>\n",
       "      <td>male</td>\n",
       "      <td>Yes</td>\n",
       "      <td>No</td>\n",
       "      <td>southeast</td>\n",
       "    </tr>\n",
       "    <tr>\n",
       "      <th>1</th>\n",
       "      <td>male</td>\n",
       "      <td>No</td>\n",
       "      <td>No</td>\n",
       "      <td>southeast</td>\n",
       "    </tr>\n",
       "    <tr>\n",
       "      <th>2</th>\n",
       "      <td>male</td>\n",
       "      <td>Yes</td>\n",
       "      <td>No</td>\n",
       "      <td>southeast</td>\n",
       "    </tr>\n",
       "    <tr>\n",
       "      <th>3</th>\n",
       "      <td>male</td>\n",
       "      <td>No</td>\n",
       "      <td>No</td>\n",
       "      <td>northwest</td>\n",
       "    </tr>\n",
       "    <tr>\n",
       "      <th>4</th>\n",
       "      <td>male</td>\n",
       "      <td>No</td>\n",
       "      <td>No</td>\n",
       "      <td>northwest</td>\n",
       "    </tr>\n",
       "  </tbody>\n",
       "</table>\n",
       "</div>"
      ],
      "text/plain": [
       "  gender diabetic smoker     region\n",
       "0   male      Yes     No  southeast\n",
       "1   male       No     No  southeast\n",
       "2   male      Yes     No  southeast\n",
       "3   male       No     No  northwest\n",
       "4   male       No     No  northwest"
      ]
     },
     "execution_count": 129,
     "metadata": {},
     "output_type": "execute_result"
    }
   ],
   "source": [
    "df_categ.head() # first 5 rows of the categorical datas"
   ]
  },
  {
   "cell_type": "code",
   "execution_count": 130,
   "metadata": {},
   "outputs": [],
   "source": [
    "# for loop to plot box plots for all the numerical datas \n",
    "\n",
    "#for i in df_numeric:\n",
    "#   if len(df_numeric[i].unique())>10: # Checking for 10 numerical continious numbers to decide as continoious data.\n",
    "  #      sns.boxplot(x = df_numeric[i],color ='purple')# ploting the box plot\n",
    "   #     plt.xlabel(i,fontsize=11)\n",
    "    #    plt.title('Boxplot of Attribute ' +i, fontsize =11) # gives tle for the boxplots \n",
    "     #   plt.show()"
   ]
  },
  {
   "cell_type": "code",
   "execution_count": 131,
   "metadata": {},
   "outputs": [],
   "source": [
    "#Observation: \n",
    "#1. Though we see a lot of outlayers in BMI,Bloodpressure and Claim , those are important variables and as of now no action #will be taken, untill we see more relation between them in bi-varient analysis.\n",
    "#2. variable Age has no Outlayers, and its distribution is normal."
   ]
  },
  {
   "cell_type": "markdown",
   "metadata": {},
   "source": [
    "### Checking for the Skewness of the data."
   ]
  },
  {
   "cell_type": "code",
   "execution_count": 132,
   "metadata": {},
   "outputs": [
    {
     "data": {
      "text/plain": [
       "<matplotlib.axes._subplots.AxesSubplot at 0x1b4b24bd508>"
      ]
     },
     "execution_count": 132,
     "metadata": {},
     "output_type": "execute_result"
    },
    {
     "data": {
      "image/png": "[encoded data removed]",
      "text/plain": [
       "<Figure size 432x288 with 1 Axes>"
      ]
     },
     "metadata": {
      "needs_background": "light"
     },
     "output_type": "display_data"
    }
   ],
   "source": [
    "# AGE \n",
    "sns.distplot(df['age'],color='Purple',norm_hist=True,label=\"AGE\",fit = norm)  # age data is asymmetrical left skewed"
   ]
  },
  {
   "cell_type": "markdown",
   "metadata": {},
   "source": [
    "Probability distribution of age  is asymmetric about the mean, showing that data near the mean are more frequent in occurrence than data far from the mean\n",
    "\n",
    "The Mean,Median,Mode will more or less in the same point. it can be seen in the describe() kernal. Where we can see that the mean and the median were around 38,"
   ]
  },
  {
   "cell_type": "code",
   "execution_count": 133,
   "metadata": {},
   "outputs": [
    {
     "data": {
      "text/plain": [
       "<matplotlib.axes._subplots.AxesSubplot at 0x1b4b25455c8>"
      ]
     },
     "execution_count": 133,
     "metadata": {},
     "output_type": "execute_result"
    },
    {
     "data": {
      "image/png": "[encoded data removed]",
      "text/plain": [
       "<Figure size 432x288 with 1 Axes>"
      ]
     },
     "metadata": {
      "needs_background": "light"
     },
     "output_type": "display_data"
    }
   ],
   "source": [
    "# BMI\n",
    "sns.distplot(df['bmi'],color='Purple',norm_hist=True,label=\"BMI\",fit = norm)# bmi  data is right skewed."
   ]
  },
  {
   "cell_type": "markdown",
   "metadata": {},
   "source": [
    "Probability distribution of BMI is asymmetrical, the data is RIGHT SKEWED, In a right skewed distribution, the mean is greater than the median.\n",
    "\n",
    "It can be seen in the describe() kernal. Where we can see that the mean(30.66) is more than  median (30.4). "
   ]
  },
  {
   "cell_type": "code",
   "execution_count": 134,
   "metadata": {},
   "outputs": [
    {
     "data": {
      "text/plain": [
       "<matplotlib.axes._subplots.AxesSubplot at 0x1b4ad17f848>"
      ]
     },
     "execution_count": 134,
     "metadata": {},
     "output_type": "execute_result"
    },
    {
     "data": {
      "image/png": "[encoded data removed]",
      "text/plain": [
       "<Figure size 432x288 with 1 Axes>"
      ]
     },
     "metadata": {
      "needs_background": "light"
     },
     "output_type": "display_data"
    }
   ],
   "source": [
    "# BloodPressure\n",
    "sns.distplot(df['bloodpressure'],color='Purple',norm_hist=True,label=\"Blood Pressure\",fit = norm)# BP data is Right Skewed."
   ]
  },
  {
   "cell_type": "markdown",
   "metadata": {},
   "source": [
    "Probability distribution of BloodPressure is asymmetrical, the data is RIGHT SKEWED, In a right skewed distribution, the mean is greater than the median.\n",
    "\n",
    "It can be seen in the describe() kernal. Where we can see that the mean(94.15) is more than  median (92).\n",
    "\n",
    "We can observe that more policy holders are having high blood pressure so we get more outlayers which can be treated in feature engineering. "
   ]
  },
  {
   "cell_type": "code",
   "execution_count": 135,
   "metadata": {},
   "outputs": [
    {
     "data": {
      "text/plain": [
       "<matplotlib.axes._subplots.AxesSubplot at 0x1b4b2551e08>"
      ]
     },
     "execution_count": 135,
     "metadata": {},
     "output_type": "execute_result"
    },
    {
     "data": {
      "image/png": "[encoded data removed]",
      "text/plain": [
       "<Figure size 432x288 with 1 Axes>"
      ]
     },
     "metadata": {
      "needs_background": "light"
     },
     "output_type": "display_data"
    }
   ],
   "source": [
    "# Claim\n",
    "sns.distplot(df['claim'],color='Purple',norm_hist=True,label=\"Claim\",fit = norm) # Claim data is Right Skewed."
   ]
  },
  {
   "cell_type": "markdown",
   "metadata": {},
   "source": [
    "Probability distribution of Claim is asymmetrical, the data is RIGHT SKEWED, In a right skewed distribution, the mean is greater than the median.\n",
    "\n",
    "It can be seen in the describe() kernal. Where we can see that the mean(13252.74) is more than  median (9369.61).\n",
    "\n",
    "The policy holders having higher claim amount are less and having lower claim amount are more."
   ]
  },
  {
   "cell_type": "code",
   "execution_count": 136,
   "metadata": {},
   "outputs": [
    {
     "data": {
      "image/png": "[encoded data removed]",
      "text/plain": [
       "<Figure size 432x432 with 1 Axes>"
      ]
     },
     "metadata": {
      "needs_background": "light"
     },
     "output_type": "display_data"
    },
    {
     "data": {
      "text/plain": [
       "0    576\n",
       "1    324\n",
       "2    240\n",
       "3    157\n",
       "4     25\n",
       "5     18\n",
       "Name: children, dtype: int64"
      ]
     },
     "execution_count": 136,
     "metadata": {},
     "output_type": "execute_result"
    }
   ],
   "source": [
    "# Ploting the histogram for childrens.\n",
    "# As Children comes under numeric discrete variable we plot Bar graph for the Children.\n",
    " \n",
    "df[\"children\"].value_counts().plot(kind = 'bar',grid=False,figsize=(6,6),color=\"purple\",fontsize=12)\n",
    "plt.xlabel(\"no. of children\", fontsize = 12)\n",
    "plt.ylabel(\"Total no rows \", fontsize = 12)\n",
    "plt.title(\"Histogram of children\", fontsize = 12)\n",
    "plt.show()\n",
    "df[\"children\"].value_counts()"
   ]
  },
  {
   "cell_type": "markdown",
   "metadata": {},
   "source": [
    "### How many childrens does the policy holders have in percentage?"
   ]
  },
  {
   "cell_type": "code",
   "execution_count": 137,
   "metadata": {},
   "outputs": [
    {
     "data": {
      "text/html": [
       "<div>\n",
       "<style scoped>\n",
       "    .dataframe tbody tr th:only-of-type {\n",
       "        vertical-align: middle;\n",
       "    }\n",
       "\n",
       "    .dataframe tbody tr th {\n",
       "        vertical-align: top;\n",
       "    }\n",
       "\n",
       "    .dataframe thead th {\n",
       "        text-align: right;\n",
       "    }\n",
       "</style>\n",
       "<table border=\"1\" class=\"dataframe\">\n",
       "  <thead>\n",
       "    <tr style=\"text-align: right;\">\n",
       "      <th>col_0</th>\n",
       "      <th>count</th>\n",
       "    </tr>\n",
       "    <tr>\n",
       "      <th>children</th>\n",
       "      <th></th>\n",
       "    </tr>\n",
       "  </thead>\n",
       "  <tbody>\n",
       "    <tr>\n",
       "      <th>0</th>\n",
       "      <td>576</td>\n",
       "    </tr>\n",
       "    <tr>\n",
       "      <th>1</th>\n",
       "      <td>324</td>\n",
       "    </tr>\n",
       "    <tr>\n",
       "      <th>2</th>\n",
       "      <td>240</td>\n",
       "    </tr>\n",
       "    <tr>\n",
       "      <th>3</th>\n",
       "      <td>157</td>\n",
       "    </tr>\n",
       "    <tr>\n",
       "      <th>4</th>\n",
       "      <td>25</td>\n",
       "    </tr>\n",
       "    <tr>\n",
       "      <th>5</th>\n",
       "      <td>18</td>\n",
       "    </tr>\n",
       "  </tbody>\n",
       "</table>\n",
       "</div>"
      ],
      "text/plain": [
       "col_0     count\n",
       "children       \n",
       "0           576\n",
       "1           324\n",
       "2           240\n",
       "3           157\n",
       "4            25\n",
       "5            18"
      ]
     },
     "execution_count": 137,
     "metadata": {},
     "output_type": "execute_result"
    }
   ],
   "source": [
    "# finding the percentage of Policy holders with respective children numbers.\n",
    "x = pd.crosstab(df.children, columns ='count')  # using cross tab to calculate the count \n",
    "x"
   ]
  },
  {
   "cell_type": "code",
   "execution_count": 138,
   "metadata": {},
   "outputs": [
    {
     "data": {
      "text/html": [
       "<div>\n",
       "<style scoped>\n",
       "    .dataframe tbody tr th:only-of-type {\n",
       "        vertical-align: middle;\n",
       "    }\n",
       "\n",
       "    .dataframe tbody tr th {\n",
       "        vertical-align: top;\n",
       "    }\n",
       "\n",
       "    .dataframe thead th {\n",
       "        text-align: right;\n",
       "    }\n",
       "</style>\n",
       "<table border=\"1\" class=\"dataframe\">\n",
       "  <thead>\n",
       "    <tr style=\"text-align: right;\">\n",
       "      <th>col_0</th>\n",
       "      <th>count</th>\n",
       "    </tr>\n",
       "    <tr>\n",
       "      <th>children</th>\n",
       "      <th></th>\n",
       "    </tr>\n",
       "  </thead>\n",
       "  <tbody>\n",
       "    <tr>\n",
       "      <th>0</th>\n",
       "      <td>42.99</td>\n",
       "    </tr>\n",
       "    <tr>\n",
       "      <th>1</th>\n",
       "      <td>24.18</td>\n",
       "    </tr>\n",
       "    <tr>\n",
       "      <th>2</th>\n",
       "      <td>17.91</td>\n",
       "    </tr>\n",
       "    <tr>\n",
       "      <th>3</th>\n",
       "      <td>11.72</td>\n",
       "    </tr>\n",
       "    <tr>\n",
       "      <th>4</th>\n",
       "      <td>1.87</td>\n",
       "    </tr>\n",
       "    <tr>\n",
       "      <th>5</th>\n",
       "      <td>1.34</td>\n",
       "    </tr>\n",
       "  </tbody>\n",
       "</table>\n",
       "</div>"
      ],
      "text/plain": [
       "col_0     count\n",
       "children       \n",
       "0         42.99\n",
       "1         24.18\n",
       "2         17.91\n",
       "3         11.72\n",
       "4          1.87\n",
       "5          1.34"
      ]
     },
     "execution_count": 138,
     "metadata": {},
     "output_type": "execute_result"
    }
   ],
   "source": [
    "n = len(df) # N is the length of variables \n",
    "round(x/n*100,2) # gettiing percentage of the policy holders."
   ]
  },
  {
   "cell_type": "markdown",
   "metadata": {},
   "source": [
    "42.99 % of the policy holders were not having child, 24.18 % of the policy holders having 1 child, 17.91 % of Policy Holders are having 2 children and 11.72 % having 3 children and 1.87% and 1.34 % of policy holders having 4 and 5 childrens respectively."
   ]
  },
  {
   "cell_type": "code",
   "execution_count": 142,
   "metadata": {},
   "outputs": [
    {
     "name": "stdout",
     "output_type": "stream",
     "text": [
      "This distribution has kurtosis PatientID       -1.200000\n",
      "age             -0.939313\n",
      "bmi             -0.060200\n",
      "bloodpressure    2.890032\n",
      "children         0.205463\n",
      "claim            1.610246\n",
      "dtype: float64\n"
     ]
    },
    {
     "data": {
      "image/png": "[encoded data removed]",
      "text/plain": [
       "<Figure size 432x288 with 1 Axes>"
      ]
     },
     "metadata": {
      "needs_background": "light"
     },
     "output_type": "display_data"
    }
   ],
   "source": [
    "# Finding the Kurtosis of the data \n",
    "df.plot(kind = 'density')\n",
    "print('This distribution has kurtosis', df.kurt())"
   ]
  },
  {
   "cell_type": "markdown",
   "metadata": {},
   "source": [
    "Types of excess kurtosis\n",
    "\n",
    "Leptokurtic or heavy-tailed distribution (kurtosis more than normal distribution).\n",
    "Mesokurtic (kurtosis same as the normal distribution).\n",
    "Platykurtic or short-tailed distribution (kurtosis less than normal distribution)."
   ]
  },
  {
   "cell_type": "markdown",
   "metadata": {},
   "source": [
    "Observation : \n",
    "1. All the variables are platykurtic (kurtosis < 3)\n",
    "\n",
    "\n",
    "Platykurtic having a lower tail and stretched around center tails means most of the data points are present in high proximity with mean. A platykurtic distribution is flatter (less peaked) when compared with the normal distribution.\n",
    "\n",
    "2. As the values of Kurtosis increase there is more chance for the variable to have outlayers Bloodpressure and claim has maximum outlayer as the Kurtosis value is : 2.89\n",
    "     "
   ]
  },
  {
   "cell_type": "markdown",
   "metadata": {},
   "source": [
    "# Bi Variate Analysis. "
   ]
  },
  {
   "cell_type": "markdown",
   "metadata": {},
   "source": [
    "#### Checking for the Correlation in the data. "
   ]
  },
  {
   "cell_type": "code",
   "execution_count": 50,
   "metadata": {},
   "outputs": [
    {
     "data": {
      "text/html": [
       "<div>\n",
       "<style scoped>\n",
       "    .dataframe tbody tr th:only-of-type {\n",
       "        vertical-align: middle;\n",
       "    }\n",
       "\n",
       "    .dataframe tbody tr th {\n",
       "        vertical-align: top;\n",
       "    }\n",
       "\n",
       "    .dataframe thead th {\n",
       "        text-align: right;\n",
       "    }\n",
       "</style>\n",
       "<table border=\"1\" class=\"dataframe\">\n",
       "  <thead>\n",
       "    <tr style=\"text-align: right;\">\n",
       "      <th></th>\n",
       "      <th>age</th>\n",
       "      <th>bmi</th>\n",
       "      <th>bloodpressure</th>\n",
       "      <th>children</th>\n",
       "      <th>claim</th>\n",
       "    </tr>\n",
       "  </thead>\n",
       "  <tbody>\n",
       "    <tr>\n",
       "      <th>0</th>\n",
       "      <td>8.313786e-02</td>\n",
       "      <td>-1.223069</td>\n",
       "      <td>-0.276130</td>\n",
       "      <td>-0.907038</td>\n",
       "      <td>-1.001756</td>\n",
       "    </tr>\n",
       "    <tr>\n",
       "      <th>1</th>\n",
       "      <td>-1.270387e+00</td>\n",
       "      <td>-0.093168</td>\n",
       "      <td>-0.625942</td>\n",
       "      <td>-0.907038</td>\n",
       "      <td>-1.000960</td>\n",
       "    </tr>\n",
       "    <tr>\n",
       "      <th>2</th>\n",
       "      <td>6.411582e-16</td>\n",
       "      <td>0.430843</td>\n",
       "      <td>-1.063207</td>\n",
       "      <td>-0.907038</td>\n",
       "      <td>-1.000594</td>\n",
       "    </tr>\n",
       "    <tr>\n",
       "      <th>3</th>\n",
       "      <td>6.411582e-16</td>\n",
       "      <td>0.496345</td>\n",
       "      <td>-1.238113</td>\n",
       "      <td>-0.907038</td>\n",
       "      <td>-1.000556</td>\n",
       "    </tr>\n",
       "    <tr>\n",
       "      <th>4</th>\n",
       "      <td>6.411582e-16</td>\n",
       "      <td>0.561846</td>\n",
       "      <td>0.510947</td>\n",
       "      <td>-0.907038</td>\n",
       "      <td>-1.000506</td>\n",
       "    </tr>\n",
       "    <tr>\n",
       "      <th>...</th>\n",
       "      <td>...</td>\n",
       "      <td>...</td>\n",
       "      <td>...</td>\n",
       "      <td>...</td>\n",
       "      <td>...</td>\n",
       "    </tr>\n",
       "    <tr>\n",
       "      <th>1335</th>\n",
       "      <td>5.343129e-01</td>\n",
       "      <td>0.791101</td>\n",
       "      <td>-0.538489</td>\n",
       "      <td>-0.907038</td>\n",
       "      <td>3.458630</td>\n",
       "    </tr>\n",
       "    <tr>\n",
       "      <th>1336</th>\n",
       "      <td>1.887838e+00</td>\n",
       "      <td>1.216861</td>\n",
       "      <td>2.260008</td>\n",
       "      <td>-0.077392</td>\n",
       "      <td>3.742344</td>\n",
       "    </tr>\n",
       "    <tr>\n",
       "      <th>1337</th>\n",
       "      <td>-7.289771e-01</td>\n",
       "      <td>0.627347</td>\n",
       "      <td>-0.276130</td>\n",
       "      <td>1.581899</td>\n",
       "      <td>3.862111</td>\n",
       "    </tr>\n",
       "    <tr>\n",
       "      <th>1338</th>\n",
       "      <td>-9.733213e-02</td>\n",
       "      <td>-0.044042</td>\n",
       "      <td>1.035666</td>\n",
       "      <td>-0.907038</td>\n",
       "      <td>4.074460</td>\n",
       "    </tr>\n",
       "    <tr>\n",
       "      <th>1339</th>\n",
       "      <td>-7.289771e-01</td>\n",
       "      <td>2.739769</td>\n",
       "      <td>0.598401</td>\n",
       "      <td>-0.907038</td>\n",
       "      <td>4.171702</td>\n",
       "    </tr>\n",
       "  </tbody>\n",
       "</table>\n",
       "<p>1340 rows × 5 columns</p>\n",
       "</div>"
      ],
      "text/plain": [
       "               age       bmi  bloodpressure  children     claim\n",
       "0     8.313786e-02 -1.223069      -0.276130 -0.907038 -1.001756\n",
       "1    -1.270387e+00 -0.093168      -0.625942 -0.907038 -1.000960\n",
       "2     6.411582e-16  0.430843      -1.063207 -0.907038 -1.000594\n",
       "3     6.411582e-16  0.496345      -1.238113 -0.907038 -1.000556\n",
       "4     6.411582e-16  0.561846       0.510947 -0.907038 -1.000506\n",
       "...            ...       ...            ...       ...       ...\n",
       "1335  5.343129e-01  0.791101      -0.538489 -0.907038  3.458630\n",
       "1336  1.887838e+00  1.216861       2.260008 -0.077392  3.742344\n",
       "1337 -7.289771e-01  0.627347      -0.276130  1.581899  3.862111\n",
       "1338 -9.733213e-02 -0.044042       1.035666 -0.907038  4.074460\n",
       "1339 -7.289771e-01  2.739769       0.598401 -0.907038  4.171702\n",
       "\n",
       "[1340 rows x 5 columns]"
      ]
     },
     "execution_count": 50,
     "metadata": {},
     "output_type": "execute_result"
    }
   ],
   "source": [
    "df_numeric_new = (df_numeric-df_numeric.mean())/df_numeric.std() # Standardizing the numerical variables. \n",
    "df_numeric_new"
   ]
  },
  {
   "cell_type": "markdown",
   "metadata": {},
   "source": [
    "###### In statistics, correlation or dependence is any statistical relationship, whether causal or not, between two random variables or bivariate data. Although in the broadest sense, \"correlation\" may indicate any type of association, in statistics it normally refers to the degree to which a pair of variables are linearly related.\n",
    "\n",
    "1. The Correlation is expressed in the form of a coefficient. Symbolized as r, a correlation coefficient is normally reported as a decimal number somewhere between +1.00 and -1.00\n",
    "\n",
    "2. Positive, Negative and Zero Correlation:-\n",
    "\n",
    "The positive and negative signs indicate positive and negative correlation respectively. Positive sign shows that with increase in one variable , the other increases as well, where the negative correlation indicates that with an increase in onethe other decreases \n",
    "\n",
    "The value itself provides the strength of relationship.\n",
    "\n",
    "A perfect correlation of 1 or -1 indicates that the value of one variable can be determined exactly by knowing the value on the other variable. On the other hand, a correlation of 0 indicates no relationship between the two variables.Knowing the value of one of the variables provides no assistance in predicting the value on the second variable. \n",
    "\n",
    "\n",
    "\n"
   ]
  },
  {
   "cell_type": "code",
   "execution_count": 51,
   "metadata": {},
   "outputs": [
    {
     "data": {
      "text/html": [
       "<div>\n",
       "<style scoped>\n",
       "    .dataframe tbody tr th:only-of-type {\n",
       "        vertical-align: middle;\n",
       "    }\n",
       "\n",
       "    .dataframe tbody tr th {\n",
       "        vertical-align: top;\n",
       "    }\n",
       "\n",
       "    .dataframe thead th {\n",
       "        text-align: right;\n",
       "    }\n",
       "</style>\n",
       "<table border=\"1\" class=\"dataframe\">\n",
       "  <thead>\n",
       "    <tr style=\"text-align: right;\">\n",
       "      <th></th>\n",
       "      <th>age</th>\n",
       "      <th>bmi</th>\n",
       "      <th>bloodpressure</th>\n",
       "      <th>children</th>\n",
       "      <th>claim</th>\n",
       "    </tr>\n",
       "  </thead>\n",
       "  <tbody>\n",
       "    <tr>\n",
       "      <th>age</th>\n",
       "      <td>1.000000</td>\n",
       "      <td>-0.041919</td>\n",
       "      <td>-0.060247</td>\n",
       "      <td>-0.025507</td>\n",
       "      <td>-0.027856</td>\n",
       "    </tr>\n",
       "    <tr>\n",
       "      <th>bmi</th>\n",
       "      <td>-0.041919</td>\n",
       "      <td>1.000000</td>\n",
       "      <td>0.143544</td>\n",
       "      <td>0.012092</td>\n",
       "      <td>0.197401</td>\n",
       "    </tr>\n",
       "    <tr>\n",
       "      <th>bloodpressure</th>\n",
       "      <td>-0.060247</td>\n",
       "      <td>0.143544</td>\n",
       "      <td>1.000000</td>\n",
       "      <td>-0.031682</td>\n",
       "      <td>0.531341</td>\n",
       "    </tr>\n",
       "    <tr>\n",
       "      <th>children</th>\n",
       "      <td>-0.025507</td>\n",
       "      <td>0.012092</td>\n",
       "      <td>-0.031682</td>\n",
       "      <td>1.000000</td>\n",
       "      <td>0.069233</td>\n",
       "    </tr>\n",
       "    <tr>\n",
       "      <th>claim</th>\n",
       "      <td>-0.027856</td>\n",
       "      <td>0.197401</td>\n",
       "      <td>0.531341</td>\n",
       "      <td>0.069233</td>\n",
       "      <td>1.000000</td>\n",
       "    </tr>\n",
       "  </tbody>\n",
       "</table>\n",
       "</div>"
      ],
      "text/plain": [
       "                    age       bmi  bloodpressure  children     claim\n",
       "age            1.000000 -0.041919      -0.060247 -0.025507 -0.027856\n",
       "bmi           -0.041919  1.000000       0.143544  0.012092  0.197401\n",
       "bloodpressure -0.060247  0.143544       1.000000 -0.031682  0.531341\n",
       "children      -0.025507  0.012092      -0.031682  1.000000  0.069233\n",
       "claim         -0.027856  0.197401       0.531341  0.069233  1.000000"
      ]
     },
     "execution_count": 51,
     "metadata": {},
     "output_type": "execute_result"
    }
   ],
   "source": [
    "df_numeric_new.corr(method=\"pearson\") # finding the pearson correlation coefficient._new.corr(method=\"pearson\") # finding the pearson correlation coefficient."
   ]
  },
  {
   "cell_type": "markdown",
   "metadata": {},
   "source": [
    "#### Observation \n",
    "Multicollinearity\n",
    "1. Age vs BMI - Markedly Low and Negligible Negative Correlation \n",
    "2. Age vs BloodPressure - Markedly Low and Negligible Negative Correlation \n",
    "3. Age vs Children - Markedly Low and Negligible Negative Correlation \n",
    "4. BMI vs Bloodpressure - Very low positive Correlation *** \n",
    "5. BMI vs Children - Markedly Low and Negligible Positive Correlation \n",
    "6. Bloodpressure vs Children - Markedly Low and Negligible Negative Correlation \n",
    "Correlation\n",
    "1. Age vs Claim - Markedly Low and Negligible Negative Correlation \n",
    "2. BMI vs Claim - Very low Positive Correlation *** \n",
    "3. Bloodpressure vs Claim - Moderate Positive Correlation ***\n",
    "4. Children vs Claim - Markedly Low and Negligible Positive Correlation \n",
    "\n",
    "\n",
    "*** - Variables have low correlation\n",
    "\n"
   ]
  },
  {
   "cell_type": "code",
   "execution_count": 52,
   "metadata": {},
   "outputs": [
    {
     "data": {
      "text/plain": [
       "<matplotlib.axes._subplots.AxesSubplot at 0x1b4acd8c948>"
      ]
     },
     "execution_count": 52,
     "metadata": {},
     "output_type": "execute_result"
    },
    {
     "data": {
      "image/png": "[encoded data removed]",
      "text/plain": [
       "<Figure size 360x360 with 2 Axes>"
      ]
     },
     "metadata": {
      "needs_background": "light"
     },
     "output_type": "display_data"
    }
   ],
   "source": [
    "# Ploting Heatmap - ON Correlation.\n",
    "plt.figure(figsize = (5,5))\n",
    "sns.heatmap(df_numeric_new.corr(), annot=True)"
   ]
  },
  {
   "cell_type": "markdown",
   "metadata": {},
   "source": [
    "### Ploting a pairplot \n",
    "###### The Seaborn Pairplot function allows the users to create an axis grid via which each numerical variable stored in data is shared across the X- and Y-axis in the structure of columns and rows. We can create the Scatter plots in order to display the pairwise relationships in addition to the distribution plot displaying the data distribution in the column diagonally."
   ]
  },
  {
   "cell_type": "code",
   "execution_count": 53,
   "metadata": {},
   "outputs": [
    {
     "name": "stderr",
     "output_type": "stream",
     "text": [
      "C:\\Users\\SARANYA B\\anaconda3\\lib\\site-packages\\seaborn\\axisgrid.py:2079: UserWarning: The `size` parameter has been renamed to `height`; please update your code.\n",
      "  warnings.warn(msg, UserWarning)\n"
     ]
    },
    {
     "data": {
      "text/plain": [
       "<seaborn.axisgrid.PairGrid at 0x1b4ae5d6a08>"
      ]
     },
     "execution_count": 53,
     "metadata": {},
     "output_type": "execute_result"
    },
    {
     "data": {
      "image/png": "[encoded data removed]",
      "text/plain": [
       "<Figure size 720x720 with 30 Axes>"
      ]
     },
     "metadata": {
      "needs_background": "light"
     },
     "output_type": "display_data"
    }
   ],
   "source": [
    "# By default, this function will create a grid of Axes such that each numeric variable in data will by shared across the y-axes across a single row and the x-axes across a single column. \n",
    "# The diagonal plots are treated differently: a univariate distribution plot is drawn to show the marginal distribution of the data in each column.\n",
    "# A pictorial representation of the total numerical data.\n",
    "sns.pairplot(df_numeric_new,diag_kind='hist',size = 2)"
   ]
  },
  {
   "cell_type": "markdown",
   "metadata": {},
   "source": [
    "Explination:\n",
    "We have then used the pairplot() function to visualize the plot with the diagonal_kind parameter set to the value 'hist'(Histogram). At last, we have used the Matplotlib show() function to display the plot to the users. As a result, the pair plot has been generated successfully.\n"
   ]
  },
  {
   "cell_type": "markdown",
   "metadata": {},
   "source": [
    "#### What is the relation between the CLAIM and BMI, Visually"
   ]
  },
  {
   "cell_type": "code",
   "execution_count": 54,
   "metadata": {},
   "outputs": [
    {
     "data": {
      "image/png": "[encoded data removed]",
      "text/plain": [
       "<Figure size 360x360 with 1 Axes>"
      ]
     },
     "metadata": {
      "needs_background": "light"
     },
     "output_type": "display_data"
    }
   ],
   "source": [
    "# To find the relation we plot the scatter plot between Claim and Bmi(two numeric variables)\n",
    "#A scatter plot can be used either when one continuous variable is under the control of the experimenter and the\n",
    "#other depends on it or when both continuous variables are independent. \n",
    "df_numeric.plot(kind='scatter',    # Scatter        \n",
    "         x='bmi',y='claim',  # Assigning X and Y variyables    \n",
    "         color='purple',     # color of the observations \n",
    "         figsize=(5,5))      # Figure Size\n",
    "plt.xlabel(\"bmi\",fontsize=10)  # X lable\n",
    "plt.ylabel(\"claim\",fontsize=10) # Y lable \n",
    "plt.title(\"scatter plot\",fontsize=10) # Chart title\n",
    "plt.show() # Display the chart \n"
   ]
  },
  {
   "cell_type": "markdown",
   "metadata": {},
   "source": [
    "###  Observation \n",
    "#Category\t        BMI range - kg/m2\n",
    "Severe Thinness\t      < 16\n",
    "Moderate Thinness\t 16 - 17\n",
    "Mild Thinness\t     17 - 18.5\n",
    "Normal\t             18.5 - 25\n",
    "Overweight\t         25 - 30\n",
    "Obese Class I\t     30 - 35\n",
    "Obese Class II\t     35 - 40\n",
    "Obese Class III\t      > 40"
   ]
  },
  {
   "cell_type": "markdown",
   "metadata": {},
   "source": [
    "1. Observations having Overweight and Obese Class I, are more and the claim amount for them are below 15000$\n",
    "2. Less observations are there in the category above Obese Class III which is >40\n",
    "3. It is observed that as BMI increases the claim amount is not Increasing.  \n",
    "4. Even for higher BMI above 45 we have a single observation has a very higher claim amount. \n",
    "5. further analysis needed to come to a conclusion "
   ]
  },
  {
   "cell_type": "markdown",
   "metadata": {},
   "source": [
    "###  Relationship between Smoker and Claim"
   ]
  },
  {
   "cell_type": "code",
   "execution_count": 55,
   "metadata": {},
   "outputs": [
    {
     "data": {
      "text/html": [
       "<div>\n",
       "<style scoped>\n",
       "    .dataframe tbody tr th:only-of-type {\n",
       "        vertical-align: middle;\n",
       "    }\n",
       "\n",
       "    .dataframe tbody tr th {\n",
       "        vertical-align: top;\n",
       "    }\n",
       "\n",
       "    .dataframe thead th {\n",
       "        text-align: right;\n",
       "    }\n",
       "</style>\n",
       "<table border=\"1\" class=\"dataframe\">\n",
       "  <thead>\n",
       "    <tr style=\"text-align: right;\">\n",
       "      <th></th>\n",
       "      <th>claim</th>\n",
       "    </tr>\n",
       "    <tr>\n",
       "      <th>smoker</th>\n",
       "      <th></th>\n",
       "    </tr>\n",
       "  </thead>\n",
       "  <tbody>\n",
       "    <tr>\n",
       "      <th>No</th>\n",
       "      <td>8421.121576</td>\n",
       "    </tr>\n",
       "    <tr>\n",
       "      <th>Yes</th>\n",
       "      <td>32050.231971</td>\n",
       "    </tr>\n",
       "  </tbody>\n",
       "</table>\n",
       "</div>"
      ],
      "text/plain": [
       "               claim\n",
       "smoker              \n",
       "No       8421.121576\n",
       "Yes     32050.231971"
      ]
     },
     "execution_count": 55,
     "metadata": {},
     "output_type": "execute_result"
    }
   ],
   "source": [
    "# Text Table for finding who has more claim.\n",
    "df[[\"claim\",\"smoker\"]].groupby([\"smoker\"]).mean() # Grouping the claim and smoker on smoker."
   ]
  },
  {
   "cell_type": "markdown",
   "metadata": {},
   "source": [
    "#### Observation \n",
    "\n",
    "1. People who smoke has more claim "
   ]
  },
  {
   "cell_type": "markdown",
   "metadata": {},
   "source": [
    "#### What reagion of people who have children have more claim ?"
   ]
  },
  {
   "cell_type": "code",
   "execution_count": 56,
   "metadata": {},
   "outputs": [
    {
     "data": {
      "text/html": [
       "<div>\n",
       "<style scoped>\n",
       "    .dataframe tbody tr th:only-of-type {\n",
       "        vertical-align: middle;\n",
       "    }\n",
       "\n",
       "    .dataframe tbody tr th {\n",
       "        vertical-align: top;\n",
       "    }\n",
       "\n",
       "    .dataframe thead th {\n",
       "        text-align: right;\n",
       "    }\n",
       "</style>\n",
       "<table border=\"1\" class=\"dataframe\">\n",
       "  <thead>\n",
       "    <tr style=\"text-align: right;\">\n",
       "      <th></th>\n",
       "      <th></th>\n",
       "      <th>claim</th>\n",
       "    </tr>\n",
       "    <tr>\n",
       "      <th>region</th>\n",
       "      <th>children</th>\n",
       "      <th></th>\n",
       "    </tr>\n",
       "  </thead>\n",
       "  <tbody>\n",
       "    <tr>\n",
       "      <th rowspan=\"6\" valign=\"top\">northeast</th>\n",
       "      <th>0</th>\n",
       "      <td>14876.094000</td>\n",
       "    </tr>\n",
       "    <tr>\n",
       "      <th>1</th>\n",
       "      <td>20011.934035</td>\n",
       "    </tr>\n",
       "    <tr>\n",
       "      <th>2</th>\n",
       "      <td>16556.019459</td>\n",
       "    </tr>\n",
       "    <tr>\n",
       "      <th>3</th>\n",
       "      <td>19202.757200</td>\n",
       "    </tr>\n",
       "    <tr>\n",
       "      <th>4</th>\n",
       "      <td>16139.195000</td>\n",
       "    </tr>\n",
       "    <tr>\n",
       "      <th>5</th>\n",
       "      <td>9222.400000</td>\n",
       "    </tr>\n",
       "    <tr>\n",
       "      <th rowspan=\"6\" valign=\"top\">northwest</th>\n",
       "      <th>0</th>\n",
       "      <td>9928.394870</td>\n",
       "    </tr>\n",
       "    <tr>\n",
       "      <th>1</th>\n",
       "      <td>10009.605395</td>\n",
       "    </tr>\n",
       "    <tr>\n",
       "      <th>2</th>\n",
       "      <td>13464.314394</td>\n",
       "    </tr>\n",
       "    <tr>\n",
       "      <th>3</th>\n",
       "      <td>17786.160652</td>\n",
       "    </tr>\n",
       "    <tr>\n",
       "      <th>4</th>\n",
       "      <td>11347.018333</td>\n",
       "    </tr>\n",
       "    <tr>\n",
       "      <th>5</th>\n",
       "      <td>8965.800000</td>\n",
       "    </tr>\n",
       "    <tr>\n",
       "      <th rowspan=\"6\" valign=\"top\">southeast</th>\n",
       "      <th>0</th>\n",
       "      <td>12765.575108</td>\n",
       "    </tr>\n",
       "    <tr>\n",
       "      <th>1</th>\n",
       "      <td>12401.435263</td>\n",
       "    </tr>\n",
       "    <tr>\n",
       "      <th>2</th>\n",
       "      <td>13998.489625</td>\n",
       "    </tr>\n",
       "    <tr>\n",
       "      <th>3</th>\n",
       "      <td>14850.251020</td>\n",
       "    </tr>\n",
       "    <tr>\n",
       "      <th>4</th>\n",
       "      <td>12802.718333</td>\n",
       "    </tr>\n",
       "    <tr>\n",
       "      <th>5</th>\n",
       "      <td>9050.896250</td>\n",
       "    </tr>\n",
       "    <tr>\n",
       "      <th rowspan=\"6\" valign=\"top\">southwest</th>\n",
       "      <th>0</th>\n",
       "      <td>12748.451250</td>\n",
       "    </tr>\n",
       "    <tr>\n",
       "      <th>1</th>\n",
       "      <td>10515.919481</td>\n",
       "    </tr>\n",
       "    <tr>\n",
       "      <th>2</th>\n",
       "      <td>17483.486316</td>\n",
       "    </tr>\n",
       "    <tr>\n",
       "      <th>3</th>\n",
       "      <td>10402.442973</td>\n",
       "    </tr>\n",
       "    <tr>\n",
       "      <th>4</th>\n",
       "      <td>14933.261429</td>\n",
       "    </tr>\n",
       "    <tr>\n",
       "      <th>5</th>\n",
       "      <td>8444.158750</td>\n",
       "    </tr>\n",
       "  </tbody>\n",
       "</table>\n",
       "</div>"
      ],
      "text/plain": [
       "                           claim\n",
       "region    children              \n",
       "northeast 0         14876.094000\n",
       "          1         20011.934035\n",
       "          2         16556.019459\n",
       "          3         19202.757200\n",
       "          4         16139.195000\n",
       "          5          9222.400000\n",
       "northwest 0          9928.394870\n",
       "          1         10009.605395\n",
       "          2         13464.314394\n",
       "          3         17786.160652\n",
       "          4         11347.018333\n",
       "          5          8965.800000\n",
       "southeast 0         12765.575108\n",
       "          1         12401.435263\n",
       "          2         13998.489625\n",
       "          3         14850.251020\n",
       "          4         12802.718333\n",
       "          5          9050.896250\n",
       "southwest 0         12748.451250\n",
       "          1         10515.919481\n",
       "          2         17483.486316\n",
       "          3         10402.442973\n",
       "          4         14933.261429\n",
       "          5          8444.158750"
      ]
     },
     "execution_count": 56,
     "metadata": {},
     "output_type": "execute_result"
    }
   ],
   "source": [
    "df[[\"children\",\"region\",\"claim\"]].groupby([\"region\",\"children\"]).mean() # Grouping children and region with claim on claim "
   ]
  },
  {
   "cell_type": "markdown",
   "metadata": {},
   "source": [
    "#### Obervation \n",
    "1. North East having highest claim with mothers having 1 child "
   ]
  },
  {
   "cell_type": "markdown",
   "metadata": {},
   "source": [
    "#### Observation with what number of childrens having higher claim ?"
   ]
  },
  {
   "cell_type": "code",
   "execution_count": 57,
   "metadata": {},
   "outputs": [
    {
     "data": {
      "text/html": [
       "<div>\n",
       "<style scoped>\n",
       "    .dataframe tbody tr th:only-of-type {\n",
       "        vertical-align: middle;\n",
       "    }\n",
       "\n",
       "    .dataframe tbody tr th {\n",
       "        vertical-align: top;\n",
       "    }\n",
       "\n",
       "    .dataframe thead th {\n",
       "        text-align: right;\n",
       "    }\n",
       "</style>\n",
       "<table border=\"1\" class=\"dataframe\">\n",
       "  <thead>\n",
       "    <tr style=\"text-align: right;\">\n",
       "      <th></th>\n",
       "      <th>claim</th>\n",
       "    </tr>\n",
       "    <tr>\n",
       "      <th>children</th>\n",
       "      <th></th>\n",
       "    </tr>\n",
       "  </thead>\n",
       "  <tbody>\n",
       "    <tr>\n",
       "      <th>0</th>\n",
       "      <td>12327.993160</td>\n",
       "    </tr>\n",
       "    <tr>\n",
       "      <th>1</th>\n",
       "      <td>12731.171821</td>\n",
       "    </tr>\n",
       "    <tr>\n",
       "      <th>2</th>\n",
       "      <td>15073.564000</td>\n",
       "    </tr>\n",
       "    <tr>\n",
       "      <th>3</th>\n",
       "      <td>15355.318535</td>\n",
       "    </tr>\n",
       "    <tr>\n",
       "      <th>4</th>\n",
       "      <td>13850.656800</td>\n",
       "    </tr>\n",
       "    <tr>\n",
       "      <th>5</th>\n",
       "      <td>8786.035556</td>\n",
       "    </tr>\n",
       "  </tbody>\n",
       "</table>\n",
       "</div>"
      ],
      "text/plain": [
       "                 claim\n",
       "children              \n",
       "0         12327.993160\n",
       "1         12731.171821\n",
       "2         15073.564000\n",
       "3         15355.318535\n",
       "4         13850.656800\n",
       "5          8786.035556"
      ]
     },
     "execution_count": 57,
     "metadata": {},
     "output_type": "execute_result"
    }
   ],
   "source": [
    "df[[\"claim\",\"children\"]].groupby([\"children\"]).mean()  # Grouping claim and children on children"
   ]
  },
  {
   "cell_type": "markdown",
   "metadata": {},
   "source": [
    "Observation\n",
    "1. Observations with 3 children have more claim 15355.318535$"
   ]
  },
  {
   "cell_type": "markdown",
   "metadata": {},
   "source": [
    "#### Which Gender has more claim ?"
   ]
  },
  {
   "cell_type": "code",
   "execution_count": 58,
   "metadata": {},
   "outputs": [
    {
     "data": {
      "text/html": [
       "<div>\n",
       "<style scoped>\n",
       "    .dataframe tbody tr th:only-of-type {\n",
       "        vertical-align: middle;\n",
       "    }\n",
       "\n",
       "    .dataframe tbody tr th {\n",
       "        vertical-align: top;\n",
       "    }\n",
       "\n",
       "    .dataframe thead th {\n",
       "        text-align: right;\n",
       "    }\n",
       "</style>\n",
       "<table border=\"1\" class=\"dataframe\">\n",
       "  <thead>\n",
       "    <tr style=\"text-align: right;\">\n",
       "      <th></th>\n",
       "      <th>claim</th>\n",
       "    </tr>\n",
       "    <tr>\n",
       "      <th>gender</th>\n",
       "      <th></th>\n",
       "    </tr>\n",
       "  </thead>\n",
       "  <tbody>\n",
       "    <tr>\n",
       "      <th>female</th>\n",
       "      <td>12569.578897</td>\n",
       "    </tr>\n",
       "    <tr>\n",
       "      <th>male</th>\n",
       "      <td>13919.790457</td>\n",
       "    </tr>\n",
       "  </tbody>\n",
       "</table>\n",
       "</div>"
      ],
      "text/plain": [
       "               claim\n",
       "gender              \n",
       "female  12569.578897\n",
       "male    13919.790457"
      ]
     },
     "execution_count": 58,
     "metadata": {},
     "output_type": "execute_result"
    }
   ],
   "source": [
    "df[[\"claim\",\"gender\"]].groupby([\"gender\"]).mean() # Grouping Claim and Gender on Gender."
   ]
  },
  {
   "cell_type": "markdown",
   "metadata": {},
   "source": [
    "Male Gender has More Claim than Female Members."
   ]
  },
  {
   "cell_type": "markdown",
   "metadata": {},
   "source": [
    "#### Is Diabetic patients having more claim ?"
   ]
  },
  {
   "cell_type": "code",
   "execution_count": 59,
   "metadata": {},
   "outputs": [
    {
     "data": {
      "text/html": [
       "<div>\n",
       "<style scoped>\n",
       "    .dataframe tbody tr th:only-of-type {\n",
       "        vertical-align: middle;\n",
       "    }\n",
       "\n",
       "    .dataframe tbody tr th {\n",
       "        vertical-align: top;\n",
       "    }\n",
       "\n",
       "    .dataframe thead th {\n",
       "        text-align: right;\n",
       "    }\n",
       "</style>\n",
       "<table border=\"1\" class=\"dataframe\">\n",
       "  <thead>\n",
       "    <tr style=\"text-align: right;\">\n",
       "      <th></th>\n",
       "      <th>claim</th>\n",
       "    </tr>\n",
       "    <tr>\n",
       "      <th>diabetic</th>\n",
       "      <th></th>\n",
       "    </tr>\n",
       "  </thead>\n",
       "  <tbody>\n",
       "    <tr>\n",
       "      <th>No</th>\n",
       "      <td>13354.031991</td>\n",
       "    </tr>\n",
       "    <tr>\n",
       "      <th>Yes</th>\n",
       "      <td>13142.624346</td>\n",
       "    </tr>\n",
       "  </tbody>\n",
       "</table>\n",
       "</div>"
      ],
      "text/plain": [
       "                 claim\n",
       "diabetic              \n",
       "No        13354.031991\n",
       "Yes       13142.624346"
      ]
     },
     "execution_count": 59,
     "metadata": {},
     "output_type": "execute_result"
    }
   ],
   "source": [
    "df[[\"claim\",\"diabetic\"]].groupby([\"diabetic\"]).mean()"
   ]
  },
  {
   "cell_type": "markdown",
   "metadata": {},
   "source": [
    "Observation \n",
    "1. NO, Non Diabetic patients have more claim."
   ]
  },
  {
   "cell_type": "markdown",
   "metadata": {},
   "source": [
    "#### Is People with high BMI and high Bloodpressure and who are  Smokers  having  diabetic or not ?"
   ]
  },
  {
   "cell_type": "code",
   "execution_count": 60,
   "metadata": {},
   "outputs": [
    {
     "data": {
      "text/plain": [
       "(                       bmi\n",
       " diabetic smoker           \n",
       " No       No      30.813750\n",
       "          Yes     31.176087\n",
       " Yes      No      30.484783\n",
       "          Yes     30.243382,\n",
       "                  bloodpressure\n",
       " diabetic smoker               \n",
       " No       No          91.864286\n",
       "          Yes        104.166667\n",
       " Yes      No          91.588933\n",
       "          Yes        103.000000)"
      ]
     },
     "execution_count": 60,
     "metadata": {},
     "output_type": "execute_result"
    }
   ],
   "source": [
    "df[[\"bmi\",\"smoker\",\"diabetic\"]].groupby([\"diabetic\",\"smoker\"]).mean(), df[[\"bloodpressure\",\"smoker\",\"diabetic\"]].groupby([\"diabetic\",\"smoker\"]).mean()"
   ]
  },
  {
   "cell_type": "markdown",
   "metadata": {},
   "source": [
    "Observation: \n",
    "1. Observations who smoke and having more bmi do not have diabetic.\n",
    "2. Observations who smoke and having more high bloodpressure do not have diabetic."
   ]
  },
  {
   "cell_type": "markdown",
   "metadata": {},
   "source": [
    "#### Is there a huge difference between blood pressure of people who have diabetic and not?\n",
    "#### Is there a huge difference between BMI of people who have diabetic and not?"
   ]
  },
  {
   "cell_type": "code",
   "execution_count": 61,
   "metadata": {},
   "outputs": [],
   "source": [
    "bp = df[[\"bloodpressure\",\"diabetic\"]].groupby([\"diabetic\"]).mean() \n"
   ]
  },
  {
   "cell_type": "markdown",
   "metadata": {},
   "source": [
    "Observation:\n",
    "No difference is found."
   ]
  },
  {
   "cell_type": "code",
   "execution_count": 62,
   "metadata": {},
   "outputs": [
    {
     "data": {
      "text/html": [
       "<div>\n",
       "<style scoped>\n",
       "    .dataframe tbody tr th:only-of-type {\n",
       "        vertical-align: middle;\n",
       "    }\n",
       "\n",
       "    .dataframe tbody tr th {\n",
       "        vertical-align: top;\n",
       "    }\n",
       "\n",
       "    .dataframe thead th {\n",
       "        text-align: right;\n",
       "    }\n",
       "</style>\n",
       "<table border=\"1\" class=\"dataframe\">\n",
       "  <thead>\n",
       "    <tr style=\"text-align: right;\">\n",
       "      <th></th>\n",
       "      <th>bmi</th>\n",
       "    </tr>\n",
       "    <tr>\n",
       "      <th>diabetic</th>\n",
       "      <th></th>\n",
       "    </tr>\n",
       "  </thead>\n",
       "  <tbody>\n",
       "    <tr>\n",
       "      <th>No</th>\n",
       "      <td>30.885387</td>\n",
       "    </tr>\n",
       "    <tr>\n",
       "      <th>Yes</th>\n",
       "      <td>30.433645</td>\n",
       "    </tr>\n",
       "  </tbody>\n",
       "</table>\n",
       "</div>"
      ],
      "text/plain": [
       "                bmi\n",
       "diabetic           \n",
       "No        30.885387\n",
       "Yes       30.433645"
      ]
     },
     "execution_count": 62,
     "metadata": {},
     "output_type": "execute_result"
    }
   ],
   "source": [
    "bm = df[[\"bmi\",\"diabetic\"]].groupby([\"diabetic\"]).mean()\n",
    "bm"
   ]
  },
  {
   "cell_type": "markdown",
   "metadata": {},
   "source": [
    "Observation: \n",
    "No Difference found "
   ]
  },
  {
   "cell_type": "markdown",
   "metadata": {},
   "source": [
    "#### Is there a huge difference between bloodpressure of people who are smokers and non smokers?\n",
    "#### Is there a huge difference between BMI of people who have smokers and non smokers?"
   ]
  },
  {
   "cell_type": "code",
   "execution_count": 63,
   "metadata": {},
   "outputs": [
    {
     "data": {
      "text/html": [
       "<div>\n",
       "<style scoped>\n",
       "    .dataframe tbody tr th:only-of-type {\n",
       "        vertical-align: middle;\n",
       "    }\n",
       "\n",
       "    .dataframe tbody tr th {\n",
       "        vertical-align: top;\n",
       "    }\n",
       "\n",
       "    .dataframe thead th {\n",
       "        text-align: right;\n",
       "    }\n",
       "</style>\n",
       "<table border=\"1\" class=\"dataframe\">\n",
       "  <thead>\n",
       "    <tr style=\"text-align: right;\">\n",
       "      <th></th>\n",
       "      <th>bmi</th>\n",
       "    </tr>\n",
       "    <tr>\n",
       "      <th>smoker</th>\n",
       "      <th></th>\n",
       "    </tr>\n",
       "  </thead>\n",
       "  <tbody>\n",
       "    <tr>\n",
       "      <th>No</th>\n",
       "      <td>30.657598</td>\n",
       "    </tr>\n",
       "    <tr>\n",
       "      <th>Yes</th>\n",
       "      <td>30.713139</td>\n",
       "    </tr>\n",
       "  </tbody>\n",
       "</table>\n",
       "</div>"
      ],
      "text/plain": [
       "              bmi\n",
       "smoker           \n",
       "No      30.657598\n",
       "Yes     30.713139"
      ]
     },
     "execution_count": 63,
     "metadata": {},
     "output_type": "execute_result"
    }
   ],
   "source": [
    "df[[\"bmi\",\"smoker\"]].groupby([\"smoker\"]).mean()"
   ]
  },
  {
   "cell_type": "markdown",
   "metadata": {},
   "source": [
    "Observation\n",
    "There is no difference between bmi of smokers and non smokers."
   ]
  },
  {
   "cell_type": "code",
   "execution_count": 64,
   "metadata": {},
   "outputs": [
    {
     "data": {
      "text/html": [
       "<div>\n",
       "<style scoped>\n",
       "    .dataframe tbody tr th:only-of-type {\n",
       "        vertical-align: middle;\n",
       "    }\n",
       "\n",
       "    .dataframe tbody tr th {\n",
       "        vertical-align: top;\n",
       "    }\n",
       "\n",
       "    .dataframe thead th {\n",
       "        text-align: right;\n",
       "    }\n",
       "</style>\n",
       "<table border=\"1\" class=\"dataframe\">\n",
       "  <thead>\n",
       "    <tr style=\"text-align: right;\">\n",
       "      <th></th>\n",
       "      <th>bloodpressure</th>\n",
       "    </tr>\n",
       "    <tr>\n",
       "      <th>smoker</th>\n",
       "      <th></th>\n",
       "    </tr>\n",
       "  </thead>\n",
       "  <tbody>\n",
       "    <tr>\n",
       "      <th>No</th>\n",
       "      <td>91.733583</td>\n",
       "    </tr>\n",
       "    <tr>\n",
       "      <th>Yes</th>\n",
       "      <td>103.587591</td>\n",
       "    </tr>\n",
       "  </tbody>\n",
       "</table>\n",
       "</div>"
      ],
      "text/plain": [
       "        bloodpressure\n",
       "smoker               \n",
       "No          91.733583\n",
       "Yes        103.587591"
      ]
     },
     "execution_count": 64,
     "metadata": {},
     "output_type": "execute_result"
    }
   ],
   "source": [
    "df[[\"bloodpressure\",\"smoker\"]].groupby([\"smoker\"]).mean()"
   ]
  },
  {
   "cell_type": "markdown",
   "metadata": {},
   "source": [
    "Observation:\n",
    "People who Smokes have higher bloodpressure."
   ]
  },
  {
   "cell_type": "markdown",
   "metadata": {},
   "source": [
    "### Checking the categorical variables with the claim "
   ]
  },
  {
   "cell_type": "markdown",
   "metadata": {},
   "source": [
    "##### Which region has low and high claim in the data "
   ]
  },
  {
   "cell_type": "code",
   "execution_count": 65,
   "metadata": {},
   "outputs": [
    {
     "data": {
      "text/html": [
       "<div>\n",
       "<style scoped>\n",
       "    .dataframe tbody tr th:only-of-type {\n",
       "        vertical-align: middle;\n",
       "    }\n",
       "\n",
       "    .dataframe tbody tr th {\n",
       "        vertical-align: top;\n",
       "    }\n",
       "\n",
       "    .dataframe thead th {\n",
       "        text-align: right;\n",
       "    }\n",
       "</style>\n",
       "<table border=\"1\" class=\"dataframe\">\n",
       "  <thead>\n",
       "    <tr style=\"text-align: right;\">\n",
       "      <th></th>\n",
       "      <th>claim</th>\n",
       "    </tr>\n",
       "    <tr>\n",
       "      <th>region</th>\n",
       "      <th></th>\n",
       "    </tr>\n",
       "  </thead>\n",
       "  <tbody>\n",
       "    <tr>\n",
       "      <th>northeast</th>\n",
       "      <td>16889.044719</td>\n",
       "    </tr>\n",
       "    <tr>\n",
       "      <th>northwest</th>\n",
       "      <td>11672.088453</td>\n",
       "    </tr>\n",
       "    <tr>\n",
       "      <th>southeast</th>\n",
       "      <td>13058.522664</td>\n",
       "    </tr>\n",
       "    <tr>\n",
       "      <th>southwest</th>\n",
       "      <td>12723.129841</td>\n",
       "    </tr>\n",
       "  </tbody>\n",
       "</table>\n",
       "</div>"
      ],
      "text/plain": [
       "                  claim\n",
       "region                 \n",
       "northeast  16889.044719\n",
       "northwest  11672.088453\n",
       "southeast  13058.522664\n",
       "southwest  12723.129841"
      ]
     },
     "execution_count": 65,
     "metadata": {},
     "output_type": "execute_result"
    }
   ],
   "source": [
    "df[[\"claim\",\"region\"]].groupby([\"region\"]).mean()"
   ]
  },
  {
   "cell_type": "markdown",
   "metadata": {},
   "source": [
    "Observation:\n",
    "The Highest mean claim is recorded in NorthEast and least mean claim was recorded in NorthWest "
   ]
  },
  {
   "cell_type": "markdown",
   "metadata": {},
   "source": [
    "#### who has more claim and less claim in compring with smokers and non smokers "
   ]
  },
  {
   "cell_type": "code",
   "execution_count": 66,
   "metadata": {},
   "outputs": [
    {
     "data": {
      "text/html": [
       "<div>\n",
       "<style scoped>\n",
       "    .dataframe tbody tr th:only-of-type {\n",
       "        vertical-align: middle;\n",
       "    }\n",
       "\n",
       "    .dataframe tbody tr th {\n",
       "        vertical-align: top;\n",
       "    }\n",
       "\n",
       "    .dataframe thead th {\n",
       "        text-align: right;\n",
       "    }\n",
       "</style>\n",
       "<table border=\"1\" class=\"dataframe\">\n",
       "  <thead>\n",
       "    <tr style=\"text-align: right;\">\n",
       "      <th></th>\n",
       "      <th>claim</th>\n",
       "    </tr>\n",
       "    <tr>\n",
       "      <th>smoker</th>\n",
       "      <th></th>\n",
       "    </tr>\n",
       "  </thead>\n",
       "  <tbody>\n",
       "    <tr>\n",
       "      <th>No</th>\n",
       "      <td>8421.121576</td>\n",
       "    </tr>\n",
       "    <tr>\n",
       "      <th>Yes</th>\n",
       "      <td>32050.231971</td>\n",
       "    </tr>\n",
       "  </tbody>\n",
       "</table>\n",
       "</div>"
      ],
      "text/plain": [
       "               claim\n",
       "smoker              \n",
       "No       8421.121576\n",
       "Yes     32050.231971"
      ]
     },
     "execution_count": 66,
     "metadata": {},
     "output_type": "execute_result"
    }
   ],
   "source": [
    "df[[\"claim\",'smoker']].groupby([\"smoker\"]).mean()"
   ]
  },
  {
   "cell_type": "markdown",
   "metadata": {},
   "source": [
    "Observation\n",
    "1. The Mean of claim for smokers are more than the mean of claim for non smokers."
   ]
  },
  {
   "cell_type": "markdown",
   "metadata": {},
   "source": [
    "#### Who have more claim is people with diabetic or not?"
   ]
  },
  {
   "cell_type": "code",
   "execution_count": 67,
   "metadata": {},
   "outputs": [
    {
     "data": {
      "text/html": [
       "<div>\n",
       "<style scoped>\n",
       "    .dataframe tbody tr th:only-of-type {\n",
       "        vertical-align: middle;\n",
       "    }\n",
       "\n",
       "    .dataframe tbody tr th {\n",
       "        vertical-align: top;\n",
       "    }\n",
       "\n",
       "    .dataframe thead th {\n",
       "        text-align: right;\n",
       "    }\n",
       "</style>\n",
       "<table border=\"1\" class=\"dataframe\">\n",
       "  <thead>\n",
       "    <tr style=\"text-align: right;\">\n",
       "      <th></th>\n",
       "      <th>claim</th>\n",
       "    </tr>\n",
       "    <tr>\n",
       "      <th>diabetic</th>\n",
       "      <th></th>\n",
       "    </tr>\n",
       "  </thead>\n",
       "  <tbody>\n",
       "    <tr>\n",
       "      <th>No</th>\n",
       "      <td>13354.031991</td>\n",
       "    </tr>\n",
       "    <tr>\n",
       "      <th>Yes</th>\n",
       "      <td>13142.624346</td>\n",
       "    </tr>\n",
       "  </tbody>\n",
       "</table>\n",
       "</div>"
      ],
      "text/plain": [
       "                 claim\n",
       "diabetic              \n",
       "No        13354.031991\n",
       "Yes       13142.624346"
      ]
     },
     "execution_count": 67,
     "metadata": {},
     "output_type": "execute_result"
    }
   ],
   "source": [
    "df[[\"claim\",'diabetic']].groupby([\"diabetic\"]).mean()"
   ]
  },
  {
   "cell_type": "markdown",
   "metadata": {},
   "source": [
    "Observation\n",
    "1. The Mean claim is more for people who do not have diabetic and Mean claim is less for people who have diabetic. "
   ]
  },
  {
   "cell_type": "markdown",
   "metadata": {},
   "source": [
    "#### Considering gender who has more claim Male or Female? "
   ]
  },
  {
   "cell_type": "code",
   "execution_count": 68,
   "metadata": {},
   "outputs": [
    {
     "data": {
      "text/html": [
       "<div>\n",
       "<style scoped>\n",
       "    .dataframe tbody tr th:only-of-type {\n",
       "        vertical-align: middle;\n",
       "    }\n",
       "\n",
       "    .dataframe tbody tr th {\n",
       "        vertical-align: top;\n",
       "    }\n",
       "\n",
       "    .dataframe thead th {\n",
       "        text-align: right;\n",
       "    }\n",
       "</style>\n",
       "<table border=\"1\" class=\"dataframe\">\n",
       "  <thead>\n",
       "    <tr style=\"text-align: right;\">\n",
       "      <th></th>\n",
       "      <th>claim</th>\n",
       "    </tr>\n",
       "    <tr>\n",
       "      <th>gender</th>\n",
       "      <th></th>\n",
       "    </tr>\n",
       "  </thead>\n",
       "  <tbody>\n",
       "    <tr>\n",
       "      <th>female</th>\n",
       "      <td>12569.578897</td>\n",
       "    </tr>\n",
       "    <tr>\n",
       "      <th>male</th>\n",
       "      <td>13919.790457</td>\n",
       "    </tr>\n",
       "  </tbody>\n",
       "</table>\n",
       "</div>"
      ],
      "text/plain": [
       "               claim\n",
       "gender              \n",
       "female  12569.578897\n",
       "male    13919.790457"
      ]
     },
     "execution_count": 68,
     "metadata": {},
     "output_type": "execute_result"
    }
   ],
   "source": [
    "df[[\"claim\",\"gender\"]].groupby([\"gender\"]).mean()"
   ]
  },
  {
   "cell_type": "markdown",
   "metadata": {},
   "source": [
    "Observation\n",
    "1. Gender Male is getting more mean claim amount than the Gender Female."
   ]
  },
  {
   "cell_type": "markdown",
   "metadata": {},
   "source": [
    "#### Which region people have high bloodpressure and are they smokers are not?"
   ]
  },
  {
   "cell_type": "code",
   "execution_count": 69,
   "metadata": {},
   "outputs": [
    {
     "data": {
      "text/html": [
       "<div>\n",
       "<style scoped>\n",
       "    .dataframe tbody tr th:only-of-type {\n",
       "        vertical-align: middle;\n",
       "    }\n",
       "\n",
       "    .dataframe tbody tr th {\n",
       "        vertical-align: top;\n",
       "    }\n",
       "\n",
       "    .dataframe thead th {\n",
       "        text-align: right;\n",
       "    }\n",
       "</style>\n",
       "<table border=\"1\" class=\"dataframe\">\n",
       "  <thead>\n",
       "    <tr style=\"text-align: right;\">\n",
       "      <th></th>\n",
       "      <th></th>\n",
       "      <th>bloodpressure</th>\n",
       "    </tr>\n",
       "    <tr>\n",
       "      <th>region</th>\n",
       "      <th>smoker</th>\n",
       "      <th></th>\n",
       "    </tr>\n",
       "  </thead>\n",
       "  <tbody>\n",
       "    <tr>\n",
       "      <th rowspan=\"2\" valign=\"top\">northeast</th>\n",
       "      <th>No</th>\n",
       "      <td>92.823171</td>\n",
       "    </tr>\n",
       "    <tr>\n",
       "      <th>Yes</th>\n",
       "      <td>102.820896</td>\n",
       "    </tr>\n",
       "    <tr>\n",
       "      <th rowspan=\"2\" valign=\"top\">northwest</th>\n",
       "      <th>No</th>\n",
       "      <td>91.804124</td>\n",
       "    </tr>\n",
       "    <tr>\n",
       "      <th>Yes</th>\n",
       "      <td>98.793103</td>\n",
       "    </tr>\n",
       "    <tr>\n",
       "      <th rowspan=\"2\" valign=\"top\">southeast</th>\n",
       "      <th>No</th>\n",
       "      <td>90.846591</td>\n",
       "    </tr>\n",
       "    <tr>\n",
       "      <th>Yes</th>\n",
       "      <td>108.000000</td>\n",
       "    </tr>\n",
       "    <tr>\n",
       "      <th rowspan=\"2\" valign=\"top\">southwest</th>\n",
       "      <th>No</th>\n",
       "      <td>92.207031</td>\n",
       "    </tr>\n",
       "    <tr>\n",
       "      <th>Yes</th>\n",
       "      <td>102.344828</td>\n",
       "    </tr>\n",
       "  </tbody>\n",
       "</table>\n",
       "</div>"
      ],
      "text/plain": [
       "                  bloodpressure\n",
       "region    smoker               \n",
       "northeast No          92.823171\n",
       "          Yes        102.820896\n",
       "northwest No          91.804124\n",
       "          Yes         98.793103\n",
       "southeast No          90.846591\n",
       "          Yes        108.000000\n",
       "southwest No          92.207031\n",
       "          Yes        102.344828"
      ]
     },
     "execution_count": 69,
     "metadata": {},
     "output_type": "execute_result"
    }
   ],
   "source": [
    "df[[\"bloodpressure\",\"region\",\"smoker\"]].groupby([\"region\",\"smoker\"]).mean()"
   ]
  },
  {
   "cell_type": "markdown",
   "metadata": {},
   "source": [
    "Observation: \n",
    "The higher bloodpressure people are from Southeast region, who are smokers."
   ]
  },
  {
   "cell_type": "markdown",
   "metadata": {},
   "source": [
    "#### Which region people having high bloodpressure and they have diabetic or not?"
   ]
  },
  {
   "cell_type": "code",
   "execution_count": 70,
   "metadata": {},
   "outputs": [
    {
     "data": {
      "text/html": [
       "<div>\n",
       "<style scoped>\n",
       "    .dataframe tbody tr th:only-of-type {\n",
       "        vertical-align: middle;\n",
       "    }\n",
       "\n",
       "    .dataframe tbody tr th {\n",
       "        vertical-align: top;\n",
       "    }\n",
       "\n",
       "    .dataframe thead th {\n",
       "        text-align: right;\n",
       "    }\n",
       "</style>\n",
       "<table border=\"1\" class=\"dataframe\">\n",
       "  <thead>\n",
       "    <tr style=\"text-align: right;\">\n",
       "      <th></th>\n",
       "      <th></th>\n",
       "      <th>bloodpressure</th>\n",
       "    </tr>\n",
       "    <tr>\n",
       "      <th>region</th>\n",
       "      <th>diabetic</th>\n",
       "      <th></th>\n",
       "    </tr>\n",
       "  </thead>\n",
       "  <tbody>\n",
       "    <tr>\n",
       "      <th rowspan=\"2\" valign=\"top\">northeast</th>\n",
       "      <th>No</th>\n",
       "      <td>95.818182</td>\n",
       "    </tr>\n",
       "    <tr>\n",
       "      <th>Yes</th>\n",
       "      <td>95.636364</td>\n",
       "    </tr>\n",
       "    <tr>\n",
       "      <th rowspan=\"2\" valign=\"top\">northwest</th>\n",
       "      <th>No</th>\n",
       "      <td>93.739583</td>\n",
       "    </tr>\n",
       "    <tr>\n",
       "      <th>Yes</th>\n",
       "      <td>92.019108</td>\n",
       "    </tr>\n",
       "    <tr>\n",
       "      <th rowspan=\"2\" valign=\"top\">southeast</th>\n",
       "      <th>No</th>\n",
       "      <td>94.288889</td>\n",
       "    </tr>\n",
       "    <tr>\n",
       "      <th>Yes</th>\n",
       "      <td>94.454128</td>\n",
       "    </tr>\n",
       "    <tr>\n",
       "      <th rowspan=\"2\" valign=\"top\">southwest</th>\n",
       "      <th>No</th>\n",
       "      <td>93.917647</td>\n",
       "    </tr>\n",
       "    <tr>\n",
       "      <th>Yes</th>\n",
       "      <td>94.270833</td>\n",
       "    </tr>\n",
       "  </tbody>\n",
       "</table>\n",
       "</div>"
      ],
      "text/plain": [
       "                    bloodpressure\n",
       "region    diabetic               \n",
       "northeast No            95.818182\n",
       "          Yes           95.636364\n",
       "northwest No            93.739583\n",
       "          Yes           92.019108\n",
       "southeast No            94.288889\n",
       "          Yes           94.454128\n",
       "southwest No            93.917647\n",
       "          Yes           94.270833"
      ]
     },
     "execution_count": 70,
     "metadata": {},
     "output_type": "execute_result"
    }
   ],
   "source": [
    "df[[\"bloodpressure\",\"region\",\"diabetic\"]].groupby([\"region\",\"diabetic\"]).mean()"
   ]
  },
  {
   "cell_type": "markdown",
   "metadata": {},
   "source": [
    "Observation: \n",
    "The Highblood pressure people are from Northeast region and They do not have diabetic\n",
    "    "
   ]
  },
  {
   "cell_type": "markdown",
   "metadata": {},
   "source": [
    "## Initializing Variable Transformations and Treating the Outlayers in the data. "
   ]
  },
  {
   "cell_type": "code",
   "execution_count": 71,
   "metadata": {},
   "outputs": [],
   "source": [
    "# Reducing the claim value to plot it with other variables \n",
    "df['logclaim'] = np.log2(df['claim'])"
   ]
  },
  {
   "cell_type": "code",
   "execution_count": 72,
   "metadata": {},
   "outputs": [
    {
     "data": {
      "text/plain": [
       "0       10.131690\n",
       "1       10.144034\n",
       "2       10.149671\n",
       "3       10.150255\n",
       "4       10.151029\n",
       "          ...    \n",
       "1335    15.750691\n",
       "1336    15.837901\n",
       "1337    15.873189\n",
       "1338    15.933711\n",
       "1339    15.960600\n",
       "Name: logclaim, Length: 1340, dtype: float64"
      ]
     },
     "execution_count": 72,
     "metadata": {},
     "output_type": "execute_result"
    }
   ],
   "source": [
    "df.logclaim # Reduced value of claim to bring down to scale with other variables. "
   ]
  },
  {
   "cell_type": "markdown",
   "metadata": {},
   "source": [
    "### Outlayer Treatment using Capping Method. "
   ]
  },
  {
   "cell_type": "code",
   "execution_count": 73,
   "metadata": {},
   "outputs": [
    {
     "data": {
      "text/html": [
       "<div>\n",
       "<style scoped>\n",
       "    .dataframe tbody tr th:only-of-type {\n",
       "        vertical-align: middle;\n",
       "    }\n",
       "\n",
       "    .dataframe tbody tr th {\n",
       "        vertical-align: top;\n",
       "    }\n",
       "\n",
       "    .dataframe thead th {\n",
       "        text-align: right;\n",
       "    }\n",
       "</style>\n",
       "<table border=\"1\" class=\"dataframe\">\n",
       "  <thead>\n",
       "    <tr style=\"text-align: right;\">\n",
       "      <th></th>\n",
       "      <th>age</th>\n",
       "      <th>gender</th>\n",
       "      <th>bmi</th>\n",
       "      <th>bloodpressure</th>\n",
       "      <th>diabetic</th>\n",
       "      <th>children</th>\n",
       "      <th>smoker</th>\n",
       "      <th>region</th>\n",
       "      <th>claim</th>\n",
       "      <th>logclaim</th>\n",
       "    </tr>\n",
       "  </thead>\n",
       "  <tbody>\n",
       "    <tr>\n",
       "      <th>0</th>\n",
       "      <td>39.000000</td>\n",
       "      <td>male</td>\n",
       "      <td>23.2</td>\n",
       "      <td>91</td>\n",
       "      <td>Yes</td>\n",
       "      <td>0</td>\n",
       "      <td>No</td>\n",
       "      <td>southeast</td>\n",
       "      <td>1121.87</td>\n",
       "      <td>10.131690</td>\n",
       "    </tr>\n",
       "    <tr>\n",
       "      <th>1</th>\n",
       "      <td>24.000000</td>\n",
       "      <td>male</td>\n",
       "      <td>30.1</td>\n",
       "      <td>87</td>\n",
       "      <td>No</td>\n",
       "      <td>0</td>\n",
       "      <td>No</td>\n",
       "      <td>southeast</td>\n",
       "      <td>1131.51</td>\n",
       "      <td>10.144034</td>\n",
       "    </tr>\n",
       "    <tr>\n",
       "      <th>2</th>\n",
       "      <td>38.078652</td>\n",
       "      <td>male</td>\n",
       "      <td>33.3</td>\n",
       "      <td>82</td>\n",
       "      <td>Yes</td>\n",
       "      <td>0</td>\n",
       "      <td>No</td>\n",
       "      <td>southeast</td>\n",
       "      <td>1135.94</td>\n",
       "      <td>10.149671</td>\n",
       "    </tr>\n",
       "    <tr>\n",
       "      <th>3</th>\n",
       "      <td>38.078652</td>\n",
       "      <td>male</td>\n",
       "      <td>33.7</td>\n",
       "      <td>80</td>\n",
       "      <td>No</td>\n",
       "      <td>0</td>\n",
       "      <td>No</td>\n",
       "      <td>northwest</td>\n",
       "      <td>1136.40</td>\n",
       "      <td>10.150255</td>\n",
       "    </tr>\n",
       "    <tr>\n",
       "      <th>4</th>\n",
       "      <td>38.078652</td>\n",
       "      <td>male</td>\n",
       "      <td>34.1</td>\n",
       "      <td>100</td>\n",
       "      <td>No</td>\n",
       "      <td>0</td>\n",
       "      <td>No</td>\n",
       "      <td>northwest</td>\n",
       "      <td>1137.01</td>\n",
       "      <td>10.151029</td>\n",
       "    </tr>\n",
       "  </tbody>\n",
       "</table>\n",
       "</div>"
      ],
      "text/plain": [
       "         age gender   bmi  bloodpressure diabetic  children smoker     region  \\\n",
       "0  39.000000   male  23.2             91      Yes         0     No  southeast   \n",
       "1  24.000000   male  30.1             87       No         0     No  southeast   \n",
       "2  38.078652   male  33.3             82      Yes         0     No  southeast   \n",
       "3  38.078652   male  33.7             80       No         0     No  northwest   \n",
       "4  38.078652   male  34.1            100       No         0     No  northwest   \n",
       "\n",
       "     claim   logclaim  \n",
       "0  1121.87  10.131690  \n",
       "1  1131.51  10.144034  \n",
       "2  1135.94  10.149671  \n",
       "3  1136.40  10.150255  \n",
       "4  1137.01  10.151029  "
      ]
     },
     "execution_count": 73,
     "metadata": {},
     "output_type": "execute_result"
    }
   ],
   "source": [
    "# Creating a duplicate dataset to  perform the treatment.\n",
    "df1 = df.drop('PatientID',axis =1)\n",
    "df1.head()"
   ]
  },
  {
   "cell_type": "markdown",
   "metadata": {},
   "source": [
    "#### Which are the variables that has outlayers ? "
   ]
  },
  {
   "cell_type": "code",
   "execution_count": 74,
   "metadata": {},
   "outputs": [
    {
     "data": {
      "text/plain": [
       "<matplotlib.axes._subplots.AxesSubplot at 0x1b4b12e5bc8>"
      ]
     },
     "execution_count": 74,
     "metadata": {},
     "output_type": "execute_result"
    },
    {
     "data": {
      "image/png": "[encoded data removed]",
      "text/plain": [
       "<Figure size 720x720 with 4 Axes>"
      ]
     },
     "metadata": {
      "needs_background": "light"
     },
     "output_type": "display_data"
    }
   ],
   "source": [
    "plt.figure(figsize= (10,10)) # giving input for the figure size which has to be plotted. \n",
    "\n",
    "plt.subplot(3,4,1) # 3 rows, 4 columns, 1st picture is given with the range (3,4,1).\n",
    "sns.boxplot(df1['age'],color = 'Green',) # Variable to be plotted is Age.\n",
    "\n",
    "plt.subplot(3,4,2)\n",
    "sns.boxplot(df1['bmi'], color = 'red') # Variable to be plotted is BMI.\n",
    "\n",
    "plt.subplot(3,4,3)\n",
    "sns.boxplot(df1['bloodpressure'], color = 'red') # Variable to be plotted is Bloodpressure.\n",
    "\n",
    "plt.subplot(3,4,4)\n",
    "sns.boxplot(df1['logclaim'], color = 'Green') # Variable to be plotted is Claim which is of log form."
   ]
  },
  {
   "cell_type": "markdown",
   "metadata": {},
   "source": [
    "Observation:\n",
    "1. Visualization shows variables with red are having outlayers i.e, Bmi and Bloodpressure "
   ]
  },
  {
   "cell_type": "markdown",
   "metadata": {},
   "source": [
    "#### Treating the variables using Relative Approach \n",
    "#### Standardization the variables to treat outlayers. Using (mu + 3 sigma) or (mu + 3 sigma)"
   ]
  },
  {
   "cell_type": "code",
   "execution_count": 75,
   "metadata": {},
   "outputs": [
    {
     "name": "stdout",
     "output_type": "stream",
     "text": [
      "For BMI Upper Outlier Limit is :  48.989159524406595\n",
      "For BMI Lower Outlier Limit is :  12.34875092335458\n"
     ]
    }
   ],
   "source": [
    "# Checking outlier limit for BMI\n",
    "outhigh_bmi = df1['bmi'].mean() + 3*df1['bmi'].std()\n",
    "outlow_bmi = df1['bmi'].mean() - 3*df1['bmi'].std()\n",
    "print(\"For BMI Upper Outlier Limit is : \", outhigh_bmi)\n",
    "print(\"For BMI Lower Outlier Limit is : \", outlow_bmi)"
   ]
  },
  {
   "cell_type": "code",
   "execution_count": 76,
   "metadata": {},
   "outputs": [
    {
     "data": {
      "text/plain": [
       "<matplotlib.axes._subplots.AxesSubplot at 0x1b4b1360248>"
      ]
     },
     "execution_count": 76,
     "metadata": {},
     "output_type": "execute_result"
    },
    {
     "data": {
      "image/png": "[encoded data removed]",
      "text/plain": [
       "<Figure size 432x288 with 1 Axes>"
      ]
     },
     "metadata": {
      "needs_background": "light"
     },
     "output_type": "display_data"
    }
   ],
   "source": [
    "sns.boxplot(df1['bmi'],orient=\"v\",color='purple') # Box Plot with outliers "
   ]
  },
  {
   "cell_type": "code",
   "execution_count": 77,
   "metadata": {},
   "outputs": [],
   "source": [
    "# Assigning the upper and lower limit to outliers for BMI\n",
    "df1['bmi'] = np.where(df['bmi']>outhigh_bmi,outhigh_bmi,\n",
    "             np.where(df['bmi']<outlow_bmi,outlow_bmi,df['bmi']))"
   ]
  },
  {
   "cell_type": "code",
   "execution_count": 78,
   "metadata": {},
   "outputs": [
    {
     "name": "stdout",
     "output_type": "stream",
     "text": [
      "For Blood Pressure Upper Outlier Limit is :  128.46159794111793\n",
      "For Blood Pressure Lower Outlier Limit is :  59.85332743201637\n"
     ]
    }
   ],
   "source": [
    "# Checking outlier limit for Bloodpressure\n",
    "outhigh_bp = df1['bloodpressure'].mean() + 3*df1['bloodpressure'].std()\n",
    "outlow_bp = df1['bloodpressure'].mean() - 3*df1['bloodpressure'].std()\n",
    "print(\"For Blood Pressure Upper Outlier Limit is : \", outhigh_bp)\n",
    "print(\"For Blood Pressure Lower Outlier Limit is : \", outlow_bp)"
   ]
  },
  {
   "cell_type": "code",
   "execution_count": 79,
   "metadata": {},
   "outputs": [
    {
     "data": {
      "text/plain": [
       "<matplotlib.axes._subplots.AxesSubplot at 0x1b4b13b2408>"
      ]
     },
     "execution_count": 79,
     "metadata": {},
     "output_type": "execute_result"
    },
    {
     "data": {
      "image/png": "[encoded data removed]",
      "text/plain": [
       "<Figure size 432x288 with 1 Axes>"
      ]
     },
     "metadata": {
      "needs_background": "light"
     },
     "output_type": "display_data"
    }
   ],
   "source": [
    "sns.boxplot(df1['bloodpressure'],orient=\"v\",color='purple') # Box Plot with outliers "
   ]
  },
  {
   "cell_type": "code",
   "execution_count": 80,
   "metadata": {},
   "outputs": [],
   "source": [
    "# Assigning the upper and lower limit to outliers for Bloodpressure\n",
    "df1['bloodpressure'] = np.where(df['bloodpressure']>outhigh_bp,outhigh_bp,\n",
    "             np.where(df['bloodpressure']<outlow_bp,outlow_bp,df['bloodpressure']))"
   ]
  },
  {
   "cell_type": "code",
   "execution_count": 81,
   "metadata": {},
   "outputs": [
    {
     "data": {
      "text/html": [
       "<div>\n",
       "<style scoped>\n",
       "    .dataframe tbody tr th:only-of-type {\n",
       "        vertical-align: middle;\n",
       "    }\n",
       "\n",
       "    .dataframe tbody tr th {\n",
       "        vertical-align: top;\n",
       "    }\n",
       "\n",
       "    .dataframe thead th {\n",
       "        text-align: right;\n",
       "    }\n",
       "</style>\n",
       "<table border=\"1\" class=\"dataframe\">\n",
       "  <thead>\n",
       "    <tr style=\"text-align: right;\">\n",
       "      <th></th>\n",
       "      <th>PatientID</th>\n",
       "      <th>age</th>\n",
       "      <th>bmi</th>\n",
       "      <th>bloodpressure</th>\n",
       "      <th>children</th>\n",
       "      <th>claim</th>\n",
       "      <th>logclaim</th>\n",
       "    </tr>\n",
       "  </thead>\n",
       "  <tbody>\n",
       "    <tr>\n",
       "      <th>count</th>\n",
       "      <td>1340.000000</td>\n",
       "      <td>1340.000000</td>\n",
       "      <td>1340.000000</td>\n",
       "      <td>1340.000000</td>\n",
       "      <td>1340.000000</td>\n",
       "      <td>1340.000000</td>\n",
       "      <td>1340.000000</td>\n",
       "    </tr>\n",
       "    <tr>\n",
       "      <th>mean</th>\n",
       "      <td>670.500000</td>\n",
       "      <td>38.078652</td>\n",
       "      <td>30.668955</td>\n",
       "      <td>94.157463</td>\n",
       "      <td>1.093284</td>\n",
       "      <td>13252.745642</td>\n",
       "      <td>13.122596</td>\n",
       "    </tr>\n",
       "    <tr>\n",
       "      <th>std</th>\n",
       "      <td>386.968991</td>\n",
       "      <td>11.082175</td>\n",
       "      <td>6.106735</td>\n",
       "      <td>11.434712</td>\n",
       "      <td>1.205334</td>\n",
       "      <td>12109.609288</td>\n",
       "      <td>1.329673</td>\n",
       "    </tr>\n",
       "    <tr>\n",
       "      <th>min</th>\n",
       "      <td>1.000000</td>\n",
       "      <td>18.000000</td>\n",
       "      <td>16.000000</td>\n",
       "      <td>80.000000</td>\n",
       "      <td>0.000000</td>\n",
       "      <td>1121.870000</td>\n",
       "      <td>10.131690</td>\n",
       "    </tr>\n",
       "    <tr>\n",
       "      <th>25%</th>\n",
       "      <td>335.750000</td>\n",
       "      <td>29.000000</td>\n",
       "      <td>26.275000</td>\n",
       "      <td>86.000000</td>\n",
       "      <td>0.000000</td>\n",
       "      <td>4719.685000</td>\n",
       "      <td>12.204475</td>\n",
       "    </tr>\n",
       "    <tr>\n",
       "      <th>50%</th>\n",
       "      <td>670.500000</td>\n",
       "      <td>38.000000</td>\n",
       "      <td>30.400000</td>\n",
       "      <td>92.000000</td>\n",
       "      <td>1.000000</td>\n",
       "      <td>9369.615000</td>\n",
       "      <td>13.193773</td>\n",
       "    </tr>\n",
       "    <tr>\n",
       "      <th>75%</th>\n",
       "      <td>1005.250000</td>\n",
       "      <td>47.000000</td>\n",
       "      <td>34.700000</td>\n",
       "      <td>99.000000</td>\n",
       "      <td>2.000000</td>\n",
       "      <td>16604.305000</td>\n",
       "      <td>14.019267</td>\n",
       "    </tr>\n",
       "    <tr>\n",
       "      <th>max</th>\n",
       "      <td>1340.000000</td>\n",
       "      <td>60.000000</td>\n",
       "      <td>53.100000</td>\n",
       "      <td>140.000000</td>\n",
       "      <td>5.000000</td>\n",
       "      <td>63770.430000</td>\n",
       "      <td>15.960600</td>\n",
       "    </tr>\n",
       "  </tbody>\n",
       "</table>\n",
       "</div>"
      ],
      "text/plain": [
       "         PatientID          age          bmi  bloodpressure     children  \\\n",
       "count  1340.000000  1340.000000  1340.000000    1340.000000  1340.000000   \n",
       "mean    670.500000    38.078652    30.668955      94.157463     1.093284   \n",
       "std     386.968991    11.082175     6.106735      11.434712     1.205334   \n",
       "min       1.000000    18.000000    16.000000      80.000000     0.000000   \n",
       "25%     335.750000    29.000000    26.275000      86.000000     0.000000   \n",
       "50%     670.500000    38.000000    30.400000      92.000000     1.000000   \n",
       "75%    1005.250000    47.000000    34.700000      99.000000     2.000000   \n",
       "max    1340.000000    60.000000    53.100000     140.000000     5.000000   \n",
       "\n",
       "              claim     logclaim  \n",
       "count   1340.000000  1340.000000  \n",
       "mean   13252.745642    13.122596  \n",
       "std    12109.609288     1.329673  \n",
       "min     1121.870000    10.131690  \n",
       "25%     4719.685000    12.204475  \n",
       "50%     9369.615000    13.193773  \n",
       "75%    16604.305000    14.019267  \n",
       "max    63770.430000    15.960600  "
      ]
     },
     "execution_count": 81,
     "metadata": {},
     "output_type": "execute_result"
    }
   ],
   "source": [
    "df.describe() # Shows the statistics of data before treating outliers."
   ]
  },
  {
   "cell_type": "code",
   "execution_count": 82,
   "metadata": {},
   "outputs": [],
   "source": [
    "# Capping Bmi and Bloodpressure - Relative Approach.\n",
    "df1['bmi']=df['bmi'].clip(lower=df1['bmi'].quantile(0.05), upper=df1['bmi'].quantile(0.95))\n",
    "df1['bloodpressure']=df['bloodpressure'].clip(lower=df1['bloodpressure'].quantile(0.05), upper=df1['bloodpressure'].quantile(0.95))"
   ]
  },
  {
   "cell_type": "code",
   "execution_count": 83,
   "metadata": {},
   "outputs": [
    {
     "data": {
      "text/plain": [
       "<matplotlib.axes._subplots.AxesSubplot at 0x1b4b143e588>"
      ]
     },
     "execution_count": 83,
     "metadata": {},
     "output_type": "execute_result"
    },
    {
     "data": {
      "image/png": "[encoded data removed]",
      "text/plain": [
       "<Figure size 720x576 with 2 Axes>"
      ]
     },
     "metadata": {
      "needs_background": "light"
     },
     "output_type": "display_data"
    }
   ],
   "source": [
    "plt.figure(figsize= (10,8))\n",
    "\n",
    "plt.subplot(3,4,2)\n",
    "sns.boxplot(df1['bmi']) # Bmi without Outliers\n",
    "\n",
    "plt.subplot(3,4,3)\n",
    "sns.boxplot(df1['bloodpressure']) # Bloodpressure without Outliers"
   ]
  },
  {
   "cell_type": "code",
   "execution_count": 84,
   "metadata": {},
   "outputs": [
    {
     "data": {
      "text/plain": [
       "<matplotlib.axes._subplots.AxesSubplot at 0x1b4b14cfb48>"
      ]
     },
     "execution_count": 84,
     "metadata": {},
     "output_type": "execute_result"
    },
    {
     "data": {
      "image/png": "[encoded data removed]",
      "text/plain": [
       "<Figure size 432x288 with 1 Axes>"
      ]
     },
     "metadata": {
      "needs_background": "light"
     },
     "output_type": "display_data"
    }
   ],
   "source": [
    "sns.boxplot(df1['bmi'],orient=\"v\",\n",
    "    color='purple') # Box Plot with out outliers "
   ]
  },
  {
   "cell_type": "code",
   "execution_count": 85,
   "metadata": {},
   "outputs": [
    {
     "data": {
      "text/plain": [
       "<matplotlib.axes._subplots.AxesSubplot at 0x1b4b1526c08>"
      ]
     },
     "execution_count": 85,
     "metadata": {},
     "output_type": "execute_result"
    },
    {
     "data": {
      "image/png": "[encoded data removed]",
      "text/plain": [
       "<Figure size 432x288 with 1 Axes>"
      ]
     },
     "metadata": {
      "needs_background": "light"
     },
     "output_type": "display_data"
    }
   ],
   "source": [
    "sns.boxplot(df1['bloodpressure'],orient=\"v\",\n",
    "    color='purple') # Box Plot with out outliers "
   ]
  },
  {
   "cell_type": "code",
   "execution_count": 86,
   "metadata": {},
   "outputs": [
    {
     "data": {
      "text/html": [
       "<div>\n",
       "<style scoped>\n",
       "    .dataframe tbody tr th:only-of-type {\n",
       "        vertical-align: middle;\n",
       "    }\n",
       "\n",
       "    .dataframe tbody tr th {\n",
       "        vertical-align: top;\n",
       "    }\n",
       "\n",
       "    .dataframe thead th {\n",
       "        text-align: right;\n",
       "    }\n",
       "</style>\n",
       "<table border=\"1\" class=\"dataframe\">\n",
       "  <thead>\n",
       "    <tr style=\"text-align: right;\">\n",
       "      <th></th>\n",
       "      <th>age</th>\n",
       "      <th>bmi</th>\n",
       "      <th>bloodpressure</th>\n",
       "      <th>children</th>\n",
       "      <th>claim</th>\n",
       "      <th>logclaim</th>\n",
       "    </tr>\n",
       "  </thead>\n",
       "  <tbody>\n",
       "    <tr>\n",
       "      <th>count</th>\n",
       "      <td>1340.000000</td>\n",
       "      <td>1340.000000</td>\n",
       "      <td>1340.000000</td>\n",
       "      <td>1340.000000</td>\n",
       "      <td>1340.000000</td>\n",
       "      <td>1340.000000</td>\n",
       "    </tr>\n",
       "    <tr>\n",
       "      <th>mean</th>\n",
       "      <td>38.078652</td>\n",
       "      <td>30.618604</td>\n",
       "      <td>93.618657</td>\n",
       "      <td>1.093284</td>\n",
       "      <td>13252.745642</td>\n",
       "      <td>13.122596</td>\n",
       "    </tr>\n",
       "    <tr>\n",
       "      <th>std</th>\n",
       "      <td>11.082175</td>\n",
       "      <td>5.589876</td>\n",
       "      <td>9.659093</td>\n",
       "      <td>1.205334</td>\n",
       "      <td>12109.609288</td>\n",
       "      <td>1.329673</td>\n",
       "    </tr>\n",
       "    <tr>\n",
       "      <th>min</th>\n",
       "      <td>18.000000</td>\n",
       "      <td>21.290000</td>\n",
       "      <td>81.000000</td>\n",
       "      <td>0.000000</td>\n",
       "      <td>1121.870000</td>\n",
       "      <td>10.131690</td>\n",
       "    </tr>\n",
       "    <tr>\n",
       "      <th>25%</th>\n",
       "      <td>29.000000</td>\n",
       "      <td>26.275000</td>\n",
       "      <td>86.000000</td>\n",
       "      <td>0.000000</td>\n",
       "      <td>4719.685000</td>\n",
       "      <td>12.204475</td>\n",
       "    </tr>\n",
       "    <tr>\n",
       "      <th>50%</th>\n",
       "      <td>38.000000</td>\n",
       "      <td>30.400000</td>\n",
       "      <td>92.000000</td>\n",
       "      <td>1.000000</td>\n",
       "      <td>9369.615000</td>\n",
       "      <td>13.193773</td>\n",
       "    </tr>\n",
       "    <tr>\n",
       "      <th>75%</th>\n",
       "      <td>47.000000</td>\n",
       "      <td>34.700000</td>\n",
       "      <td>99.000000</td>\n",
       "      <td>2.000000</td>\n",
       "      <td>16604.305000</td>\n",
       "      <td>14.019267</td>\n",
       "    </tr>\n",
       "    <tr>\n",
       "      <th>max</th>\n",
       "      <td>60.000000</td>\n",
       "      <td>41.100000</td>\n",
       "      <td>117.000000</td>\n",
       "      <td>5.000000</td>\n",
       "      <td>63770.430000</td>\n",
       "      <td>15.960600</td>\n",
       "    </tr>\n",
       "  </tbody>\n",
       "</table>\n",
       "</div>"
      ],
      "text/plain": [
       "               age          bmi  bloodpressure     children         claim  \\\n",
       "count  1340.000000  1340.000000    1340.000000  1340.000000   1340.000000   \n",
       "mean     38.078652    30.618604      93.618657     1.093284  13252.745642   \n",
       "std      11.082175     5.589876       9.659093     1.205334  12109.609288   \n",
       "min      18.000000    21.290000      81.000000     0.000000   1121.870000   \n",
       "25%      29.000000    26.275000      86.000000     0.000000   4719.685000   \n",
       "50%      38.000000    30.400000      92.000000     1.000000   9369.615000   \n",
       "75%      47.000000    34.700000      99.000000     2.000000  16604.305000   \n",
       "max      60.000000    41.100000     117.000000     5.000000  63770.430000   \n",
       "\n",
       "          logclaim  \n",
       "count  1340.000000  \n",
       "mean     13.122596  \n",
       "std       1.329673  \n",
       "min      10.131690  \n",
       "25%      12.204475  \n",
       "50%      13.193773  \n",
       "75%      14.019267  \n",
       "max      15.960600  "
      ]
     },
     "execution_count": 86,
     "metadata": {},
     "output_type": "execute_result"
    }
   ],
   "source": [
    "df1.describe() # Shows the Statistics of capped outliers."
   ]
  },
  {
   "cell_type": "markdown",
   "metadata": {},
   "source": [
    "#####  Checking for VIF - Variance Inflation Factors (VIFs) measure the correlation among independent variables this type of correlation is called as multicollinearity. Excessive multicollinearity can cause problems for models."
   ]
  },
  {
   "cell_type": "code",
   "execution_count": 87,
   "metadata": {},
   "outputs": [],
   "source": [
    "# Importing the statsmodel for Variable inflation factor\n",
    "from statsmodels.stats.outliers_influence import variance_inflation_factor"
   ]
  },
  {
   "cell_type": "code",
   "execution_count": 88,
   "metadata": {},
   "outputs": [],
   "source": [
    "# Multicollinearity can gave the following impact on the model:\n",
    "    # The Standard error of estimate is inflated \n",
    "    # A statistically significant explanatory variable may be labelled as statistically insignificant due to \n",
    "        # high p-value, this is because when the standard error of estimate is inflated, \n",
    "        # it results in an underestimation of t-statistic value\n",
    "    # The Sign of the regression coefficient may be differnet that is insted of negative value for regression coefficient, we may have a positive regression coefficient and vice versa\n",
    "    # Adding/removing a variable or even an observation may result in large variation in regression coefficient estimates.\n",
    "    \n",
    "        "
   ]
  },
  {
   "cell_type": "markdown",
   "metadata": {},
   "source": [
    "### Step 1: "
   ]
  },
  {
   "cell_type": "code",
   "execution_count": 89,
   "metadata": {},
   "outputs": [
    {
     "name": "stdout",
     "output_type": "stream",
     "text": [
      "         feature        VIF\n",
      "0            bmi  27.262308\n",
      "1  bloodpressure  36.516075\n",
      "2            age  11.344605\n",
      "3       children   1.808311\n",
      "4          claim   2.517255\n"
     ]
    }
   ],
   "source": [
    "X = df1[['bmi', 'bloodpressure','age','children','claim']]  # Assigning a subdata frame to Variable name X\n",
    "vif_df1 = pd.DataFrame() # Creating a dataframe for VIF\n",
    "vif_df1[\"feature\"] = X.columns # Inserting the Variable X into dataframe \n",
    "  \n",
    "vif_df1[\"VIF\"] = [variance_inflation_factor(X.values, i)\n",
    "                          for i in range(len(X.columns))] # Calculating VIF for both the feature \n",
    "  \n",
    "print(vif_df1) # Multicolinearity exist "
   ]
  },
  {
   "cell_type": "code",
   "execution_count": 90,
   "metadata": {},
   "outputs": [],
   "source": [
    "df2 = df1.drop(\"bloodpressure\", axis = True ) # Droping the Bloodpressure "
   ]
  },
  {
   "cell_type": "code",
   "execution_count": 91,
   "metadata": {},
   "outputs": [
    {
     "name": "stdout",
     "output_type": "stream",
     "text": [
      "    feature        VIF\n",
      "0       bmi  10.745865\n",
      "1       age   8.989968\n",
      "2  children   1.797029\n",
      "3     claim   2.302186\n"
     ]
    }
   ],
   "source": [
    "X = df2[['bmi','age','children','claim']]  # Assigning a subdata frame to Variable name X\n",
    "vif_df2 = pd.DataFrame() # Creating a dataframe for VIF\n",
    "vif_df2[\"feature\"] = X.columns # Inserting the Variable X into dataframe \n",
    "  \n",
    "vif_df2[\"VIF\"] = [variance_inflation_factor(X.values, i)\n",
    "                          for i in range(len(X.columns))] # Calculating VIF for both the feature \n",
    "  \n",
    "print(vif_df2) # Multicolinearity exist "
   ]
  },
  {
   "cell_type": "code",
   "execution_count": 92,
   "metadata": {},
   "outputs": [],
   "source": [
    "df3 = df2.drop(\"bmi\", axis = True) # Droping the BMI "
   ]
  },
  {
   "cell_type": "code",
   "execution_count": 93,
   "metadata": {},
   "outputs": [
    {
     "name": "stdout",
     "output_type": "stream",
     "text": [
      "    feature       VIF\n",
      "0       age  2.463406\n",
      "1  children  1.731122\n",
      "2     claim  2.024937\n"
     ]
    }
   ],
   "source": [
    "X = df3[['age','children','claim']]  # Assigning a subdata frame to Variable name X\n",
    "vif_df3 = pd.DataFrame() # Creating a dataframe for VIF\n",
    "vif_df3[\"feature\"] = X.columns # Inserting the Variable X into dataframe \n",
    "  \n",
    "vif_df3[\"VIF\"] = [variance_inflation_factor(X.values, i)\n",
    "                          for i in range(len(X.columns))] # Calculating VIF for both the feature \n",
    "  \n",
    "print(vif_df3) # Multicolinearity exist"
   ]
  },
  {
   "cell_type": "markdown",
   "metadata": {},
   "source": [
    "#### Converting Categorical Variables to Numeric variables to fit in the Model"
   ]
  },
  {
   "cell_type": "code",
   "execution_count": 94,
   "metadata": {},
   "outputs": [],
   "source": [
    "df3_new =  pd.get_dummies(df3, columns = ['gender','diabetic','smoker','region']) # Getting the dummies for categorical data "
   ]
  },
  {
   "cell_type": "code",
   "execution_count": 95,
   "metadata": {},
   "outputs": [
    {
     "data": {
      "text/html": [
       "<div>\n",
       "<style scoped>\n",
       "    .dataframe tbody tr th:only-of-type {\n",
       "        vertical-align: middle;\n",
       "    }\n",
       "\n",
       "    .dataframe tbody tr th {\n",
       "        vertical-align: top;\n",
       "    }\n",
       "\n",
       "    .dataframe thead th {\n",
       "        text-align: right;\n",
       "    }\n",
       "</style>\n",
       "<table border=\"1\" class=\"dataframe\">\n",
       "  <thead>\n",
       "    <tr style=\"text-align: right;\">\n",
       "      <th></th>\n",
       "      <th>age</th>\n",
       "      <th>children</th>\n",
       "      <th>claim</th>\n",
       "      <th>logclaim</th>\n",
       "      <th>gender_female</th>\n",
       "      <th>gender_male</th>\n",
       "      <th>diabetic_No</th>\n",
       "      <th>diabetic_Yes</th>\n",
       "      <th>smoker_No</th>\n",
       "      <th>smoker_Yes</th>\n",
       "      <th>region_northeast</th>\n",
       "      <th>region_northwest</th>\n",
       "      <th>region_southeast</th>\n",
       "      <th>region_southwest</th>\n",
       "    </tr>\n",
       "  </thead>\n",
       "  <tbody>\n",
       "    <tr>\n",
       "      <th>0</th>\n",
       "      <td>39.000000</td>\n",
       "      <td>0</td>\n",
       "      <td>1121.87</td>\n",
       "      <td>10.131690</td>\n",
       "      <td>0</td>\n",
       "      <td>1</td>\n",
       "      <td>0</td>\n",
       "      <td>1</td>\n",
       "      <td>1</td>\n",
       "      <td>0</td>\n",
       "      <td>0</td>\n",
       "      <td>0</td>\n",
       "      <td>1</td>\n",
       "      <td>0</td>\n",
       "    </tr>\n",
       "    <tr>\n",
       "      <th>1</th>\n",
       "      <td>24.000000</td>\n",
       "      <td>0</td>\n",
       "      <td>1131.51</td>\n",
       "      <td>10.144034</td>\n",
       "      <td>0</td>\n",
       "      <td>1</td>\n",
       "      <td>1</td>\n",
       "      <td>0</td>\n",
       "      <td>1</td>\n",
       "      <td>0</td>\n",
       "      <td>0</td>\n",
       "      <td>0</td>\n",
       "      <td>1</td>\n",
       "      <td>0</td>\n",
       "    </tr>\n",
       "    <tr>\n",
       "      <th>2</th>\n",
       "      <td>38.078652</td>\n",
       "      <td>0</td>\n",
       "      <td>1135.94</td>\n",
       "      <td>10.149671</td>\n",
       "      <td>0</td>\n",
       "      <td>1</td>\n",
       "      <td>0</td>\n",
       "      <td>1</td>\n",
       "      <td>1</td>\n",
       "      <td>0</td>\n",
       "      <td>0</td>\n",
       "      <td>0</td>\n",
       "      <td>1</td>\n",
       "      <td>0</td>\n",
       "    </tr>\n",
       "    <tr>\n",
       "      <th>3</th>\n",
       "      <td>38.078652</td>\n",
       "      <td>0</td>\n",
       "      <td>1136.40</td>\n",
       "      <td>10.150255</td>\n",
       "      <td>0</td>\n",
       "      <td>1</td>\n",
       "      <td>1</td>\n",
       "      <td>0</td>\n",
       "      <td>1</td>\n",
       "      <td>0</td>\n",
       "      <td>0</td>\n",
       "      <td>1</td>\n",
       "      <td>0</td>\n",
       "      <td>0</td>\n",
       "    </tr>\n",
       "    <tr>\n",
       "      <th>4</th>\n",
       "      <td>38.078652</td>\n",
       "      <td>0</td>\n",
       "      <td>1137.01</td>\n",
       "      <td>10.151029</td>\n",
       "      <td>0</td>\n",
       "      <td>1</td>\n",
       "      <td>1</td>\n",
       "      <td>0</td>\n",
       "      <td>1</td>\n",
       "      <td>0</td>\n",
       "      <td>0</td>\n",
       "      <td>1</td>\n",
       "      <td>0</td>\n",
       "      <td>0</td>\n",
       "    </tr>\n",
       "  </tbody>\n",
       "</table>\n",
       "</div>"
      ],
      "text/plain": [
       "         age  children    claim   logclaim  gender_female  gender_male  \\\n",
       "0  39.000000         0  1121.87  10.131690              0            1   \n",
       "1  24.000000         0  1131.51  10.144034              0            1   \n",
       "2  38.078652         0  1135.94  10.149671              0            1   \n",
       "3  38.078652         0  1136.40  10.150255              0            1   \n",
       "4  38.078652         0  1137.01  10.151029              0            1   \n",
       "\n",
       "   diabetic_No  diabetic_Yes  smoker_No  smoker_Yes  region_northeast  \\\n",
       "0            0             1          1           0                 0   \n",
       "1            1             0          1           0                 0   \n",
       "2            0             1          1           0                 0   \n",
       "3            1             0          1           0                 0   \n",
       "4            1             0          1           0                 0   \n",
       "\n",
       "   region_northwest  region_southeast  region_southwest  \n",
       "0                 0                 1                 0  \n",
       "1                 0                 1                 0  \n",
       "2                 0                 1                 0  \n",
       "3                 1                 0                 0  \n",
       "4                 1                 0                 0  "
      ]
     },
     "execution_count": 95,
     "metadata": {},
     "output_type": "execute_result"
    }
   ],
   "source": [
    "df3_new.head()  # Shows the first 5 rows of the data set "
   ]
  },
  {
   "cell_type": "code",
   "execution_count": 99,
   "metadata": {},
   "outputs": [],
   "source": [
    "# Seperating the independent and dependent variables \n",
    "X = df3_new.drop(['claim'], axis = 1 ) # All X's values \n",
    "y = df3_new.claim # y - values "
   ]
  },
  {
   "cell_type": "code",
   "execution_count": 100,
   "metadata": {},
   "outputs": [
    {
     "data": {
      "text/html": [
       "<div>\n",
       "<style scoped>\n",
       "    .dataframe tbody tr th:only-of-type {\n",
       "        vertical-align: middle;\n",
       "    }\n",
       "\n",
       "    .dataframe tbody tr th {\n",
       "        vertical-align: top;\n",
       "    }\n",
       "\n",
       "    .dataframe thead th {\n",
       "        text-align: right;\n",
       "    }\n",
       "</style>\n",
       "<table border=\"1\" class=\"dataframe\">\n",
       "  <thead>\n",
       "    <tr style=\"text-align: right;\">\n",
       "      <th></th>\n",
       "      <th>age</th>\n",
       "      <th>children</th>\n",
       "      <th>logclaim</th>\n",
       "      <th>gender_female</th>\n",
       "      <th>gender_male</th>\n",
       "      <th>diabetic_No</th>\n",
       "      <th>diabetic_Yes</th>\n",
       "      <th>smoker_No</th>\n",
       "      <th>smoker_Yes</th>\n",
       "      <th>region_northeast</th>\n",
       "      <th>region_northwest</th>\n",
       "      <th>region_southeast</th>\n",
       "      <th>region_southwest</th>\n",
       "    </tr>\n",
       "  </thead>\n",
       "  <tbody>\n",
       "    <tr>\n",
       "      <th>0</th>\n",
       "      <td>39.000000</td>\n",
       "      <td>0</td>\n",
       "      <td>10.131690</td>\n",
       "      <td>0</td>\n",
       "      <td>1</td>\n",
       "      <td>0</td>\n",
       "      <td>1</td>\n",
       "      <td>1</td>\n",
       "      <td>0</td>\n",
       "      <td>0</td>\n",
       "      <td>0</td>\n",
       "      <td>1</td>\n",
       "      <td>0</td>\n",
       "    </tr>\n",
       "    <tr>\n",
       "      <th>1</th>\n",
       "      <td>24.000000</td>\n",
       "      <td>0</td>\n",
       "      <td>10.144034</td>\n",
       "      <td>0</td>\n",
       "      <td>1</td>\n",
       "      <td>1</td>\n",
       "      <td>0</td>\n",
       "      <td>1</td>\n",
       "      <td>0</td>\n",
       "      <td>0</td>\n",
       "      <td>0</td>\n",
       "      <td>1</td>\n",
       "      <td>0</td>\n",
       "    </tr>\n",
       "    <tr>\n",
       "      <th>2</th>\n",
       "      <td>38.078652</td>\n",
       "      <td>0</td>\n",
       "      <td>10.149671</td>\n",
       "      <td>0</td>\n",
       "      <td>1</td>\n",
       "      <td>0</td>\n",
       "      <td>1</td>\n",
       "      <td>1</td>\n",
       "      <td>0</td>\n",
       "      <td>0</td>\n",
       "      <td>0</td>\n",
       "      <td>1</td>\n",
       "      <td>0</td>\n",
       "    </tr>\n",
       "    <tr>\n",
       "      <th>3</th>\n",
       "      <td>38.078652</td>\n",
       "      <td>0</td>\n",
       "      <td>10.150255</td>\n",
       "      <td>0</td>\n",
       "      <td>1</td>\n",
       "      <td>1</td>\n",
       "      <td>0</td>\n",
       "      <td>1</td>\n",
       "      <td>0</td>\n",
       "      <td>0</td>\n",
       "      <td>1</td>\n",
       "      <td>0</td>\n",
       "      <td>0</td>\n",
       "    </tr>\n",
       "    <tr>\n",
       "      <th>4</th>\n",
       "      <td>38.078652</td>\n",
       "      <td>0</td>\n",
       "      <td>10.151029</td>\n",
       "      <td>0</td>\n",
       "      <td>1</td>\n",
       "      <td>1</td>\n",
       "      <td>0</td>\n",
       "      <td>1</td>\n",
       "      <td>0</td>\n",
       "      <td>0</td>\n",
       "      <td>1</td>\n",
       "      <td>0</td>\n",
       "      <td>0</td>\n",
       "    </tr>\n",
       "  </tbody>\n",
       "</table>\n",
       "</div>"
      ],
      "text/plain": [
       "         age  children   logclaim  gender_female  gender_male  diabetic_No  \\\n",
       "0  39.000000         0  10.131690              0            1            0   \n",
       "1  24.000000         0  10.144034              0            1            1   \n",
       "2  38.078652         0  10.149671              0            1            0   \n",
       "3  38.078652         0  10.150255              0            1            1   \n",
       "4  38.078652         0  10.151029              0            1            1   \n",
       "\n",
       "   diabetic_Yes  smoker_No  smoker_Yes  region_northeast  region_northwest  \\\n",
       "0             1          1           0                 0                 0   \n",
       "1             0          1           0                 0                 0   \n",
       "2             1          1           0                 0                 0   \n",
       "3             0          1           0                 0                 1   \n",
       "4             0          1           0                 0                 1   \n",
       "\n",
       "   region_southeast  region_southwest  \n",
       "0                 1                 0  \n",
       "1                 1                 0  \n",
       "2                 1                 0  \n",
       "3                 0                 0  \n",
       "4                 0                 0  "
      ]
     },
     "execution_count": 100,
     "metadata": {},
     "output_type": "execute_result"
    }
   ],
   "source": [
    "X.head() # display  first 5 rows in the X dataset "
   ]
  },
  {
   "cell_type": "code",
   "execution_count": 101,
   "metadata": {},
   "outputs": [
    {
     "data": {
      "text/plain": [
       "0    1121.87\n",
       "1    1131.51\n",
       "2    1135.94\n",
       "3    1136.40\n",
       "4    1137.01\n",
       "Name: claim, dtype: float64"
      ]
     },
     "execution_count": 101,
     "metadata": {},
     "output_type": "execute_result"
    }
   ],
   "source": [
    "y.head() # Displays first 5 rows in the y "
   ]
  },
  {
   "cell_type": "code",
   "execution_count": 102,
   "metadata": {},
   "outputs": [
    {
     "data": {
      "text/plain": [
       "array([[ 8.31689020e-02, -9.07376479e-01, -2.25019526e+00, ...,\n",
       "        -5.93438730e-01,  1.42296546e+00, -5.53211429e-01],\n",
       "       [-1.27086139e+00, -9.07376479e-01, -2.24090844e+00, ...,\n",
       "        -5.93438730e-01,  1.42296546e+00, -5.53211429e-01],\n",
       "       [ 6.41397593e-16, -9.07376479e-01, -2.23666724e+00, ...,\n",
       "        -5.93438730e-01,  1.42296546e+00, -5.53211429e-01],\n",
       "       ...,\n",
       "       [-7.29249274e-01,  1.58248935e+00,  2.06939644e+00, ...,\n",
       "         1.68509393e+00, -7.02757747e-01, -5.53211429e-01],\n",
       "       [-9.73684706e-02, -9.07376479e-01,  2.11492941e+00, ...,\n",
       "        -5.93438730e-01,  1.42296546e+00, -5.53211429e-01],\n",
       "       [-7.29249274e-01, -9.07376479e-01,  2.13515944e+00, ...,\n",
       "        -5.93438730e-01,  1.42296546e+00, -5.53211429e-01]])"
      ]
     },
     "execution_count": 102,
     "metadata": {},
     "output_type": "execute_result"
    }
   ],
   "source": [
    "from sklearn.preprocessing import StandardScaler # importing the standardscalar from sklearn library for standardizing the data \n",
    "\n",
    "scalar = StandardScaler() # taking the model into variable name scalar \n",
    "X_Scaled = scalar.fit_transform(X) # fitting the model \n",
    "X_Scaled #displays the scaled values "
   ]
  },
  {
   "cell_type": "code",
   "execution_count": 103,
   "metadata": {},
   "outputs": [],
   "source": [
    "from sklearn.model_selection import train_test_split # tranin and test split for the data. \n",
    "\n",
    "X_train,X_test,y_train,y_test = train_test_split(X_Scaled,y,test_size = 0.2, random_state = 123) # in test we take 80% for train data and 20 % for test data. "
   ]
  },
  {
   "cell_type": "code",
   "execution_count": 104,
   "metadata": {},
   "outputs": [
    {
     "data": {
      "text/plain": [
       "array([10716.14835012,  8823.10339255, -6364.66263847,  6102.2963624 ,\n",
       "        4734.90432814, 32586.76703732, 12105.26385224, 14808.41733267,\n",
       "       17964.46204351, 32943.73750513,  1698.33662655, 10317.26800204,\n",
       "       18229.64178374, 14159.95702238, 35720.75700554, 12759.08039133,\n",
       "       -3693.14043212, 13537.71594303, 19109.60179292, -3717.14883113,\n",
       "         491.32377778, 14183.66971861, 31505.5565973 ,  9952.17527158,\n",
       "        -114.17379238, 34990.00007098, 33534.38120275, 10475.96587238,\n",
       "       21156.80347706, -3861.03280811, 22254.97893393,  1636.39084418,\n",
       "       14591.12873929, 11299.15986539,  8836.25837203,   930.61592763,\n",
       "       27445.10350721,  5154.68915263, 10629.14926642, 22567.44822237,\n",
       "       13228.54907986, 14422.43480493, 33475.43296509, 13181.25529958,\n",
       "        2346.08491335, 39968.07794698, 14842.31863909,  5699.72112253,\n",
       "       10965.314088  , 35968.06909611,  8193.76762088, 12664.83330742,\n",
       "        5158.8688425 , -3781.81415887,  1127.5079023 , 15652.6725072 ,\n",
       "        3109.49546712, 15512.07068137,  3024.38836975,  9307.29195455,\n",
       "        8263.88724563, 12569.9072185 , -3680.28745015, 17598.83977515,\n",
       "       33851.3698153 , 11376.90870933,  5640.39855738, 14040.47828005,\n",
       "       11331.75893862, -3475.25319951,  9381.07714415,  4370.50283265,\n",
       "        9869.91217637, 13824.27756252, 33498.55857658, 35018.5101476 ,\n",
       "       29124.79646016, 28161.5272584 , 11564.76361649, 28689.92681791,\n",
       "       13609.52816432,  1611.20237187,  6664.63020466, 35876.95476957,\n",
       "        1919.79818756,  -321.1980766 ,  1380.82972358,  8612.24649613,\n",
       "         172.68186922,  7109.64179273,   613.6611905 , 15328.74543416,\n",
       "         961.54316015, 19743.03512786,    46.70441425, 31581.58579026,\n",
       "       -1872.57670436, 19452.35140045, 10718.41577456, 11113.29226435,\n",
       "        5258.64158804, 12844.83966232, 10410.91474861, 10399.13622976,\n",
       "        4989.64129932, 14977.52431296, 12026.70015381, 12105.25021273,\n",
       "       12860.743202  , 15496.40625251, -3597.54656398, 11366.1410275 ,\n",
       "       17259.39136306, -5872.45873796,  2993.81093589,  6306.56527634,\n",
       "        -620.09210675,  1854.15693769, 22113.77430955,  6360.14367673,\n",
       "       11336.43686203, 27181.1332421 , 29027.26407353, 32685.65694227,\n",
       "       11665.85217715, 10015.95756949, 20281.58652063, -1439.76396695,\n",
       "       11544.75695212, -2583.13474935, 13248.47626685, -1668.07830079,\n",
       "        9025.37541406, 15635.62444176, 18437.01912775, -1576.79599229,\n",
       "       20986.19051446, 35610.69168534,   540.88120516, 27077.27746425,\n",
       "       13234.20273059,  7314.34293142, -2752.37793211, 26753.33006235,\n",
       "        5312.10103446, 12084.84215238, 12401.91222259, 10257.09966612,\n",
       "        5040.29075927,  2145.54717831, 32555.06278823, 10098.23186543,\n",
       "       34625.23375796, 33365.29075092, 15434.28054655, 10497.44721448,\n",
       "        3008.7216577 ,  7696.91421058,  4931.52789997, 31671.36611406,\n",
       "       13693.09335594, -3755.23799367,  3877.68977664, 12618.83764018,\n",
       "       21579.28223344, 11415.36464565, 13748.62106308, 20899.50738557,\n",
       "       13343.68826296, 29136.66225151, 11323.95978164, 13791.00634254,\n",
       "        5678.8678078 , -1944.49129011, 14533.37361968, 10605.21201009,\n",
       "       12290.16525042,  9980.22703102, 10416.27010668, 21694.94019152,\n",
       "       15652.16623847, 13890.81930644,  3868.95706895, -2359.51903326,\n",
       "       37206.29652944, 11178.95907557,  7909.08374939, -6980.35886168,\n",
       "       11624.74488938, 28145.4437239 ,  5523.20831333,  4665.23496583,\n",
       "       12909.29203575, 23368.24425582, -2373.52124623, 11223.83503299,\n",
       "       22545.94091674,  2360.35126253, 11065.8709567 , 18189.38761889,\n",
       "       33860.40089671,  6303.09551056, 12259.2489852 , 12009.26904649,\n",
       "       13888.80451617, 28684.52880034, 33148.64001648,  6583.63302652,\n",
       "       13719.4671473 , 33289.70094265, 11859.95321085, 10775.34898493,\n",
       "       -1810.7621447 ,  5272.49974298, 13111.47117926,  6632.27724455,\n",
       "        8355.54764596,  2016.51937454,   226.75071078, 19668.91376685,\n",
       "       15535.16747903, 15217.0527928 , 14394.94682954,  1248.1046473 ,\n",
       "       14610.93141748, -3905.5236718 , 10913.37371511, 27518.76570367,\n",
       "       -2883.36489249, 10867.37913656,  6489.33538282, 19365.83149495,\n",
       "       34232.2381734 , 37430.08161804,   150.7030911 ,  -606.38915374,\n",
       "        -901.45934478, 31292.3087112 ,   340.43123018, 34104.9322556 ,\n",
       "       12350.44041744,  3194.57790244,  9814.41343691, -1196.26473846,\n",
       "        1099.56919424, 12837.16011525, 29799.39150186,  4385.89453356,\n",
       "        6368.51054663, 11440.87010949, 15986.64900591, 30595.1989706 ,\n",
       "       16795.08085676, 14582.91287103, -2721.08682195, 12333.86144199,\n",
       "       37299.12310326, -3766.84090537,  1951.18467468,  3063.80651025,\n",
       "       -2315.37675834,  -838.46066664, 32871.72877785, 35174.5027229 ,\n",
       "       -3462.27131854, 12537.06929491, 13528.95617868,  8666.4535867 ])"
      ]
     },
     "execution_count": 104,
     "metadata": {},
     "output_type": "execute_result"
    }
   ],
   "source": [
    "from sklearn.linear_model import LinearRegression  #Importing the LR model from sklearn library\n",
    "\n",
    "lin_reg = LinearRegression() # taking the model in the variable \n",
    "lin_reg.fit(X_train,y_train) # fitting the model \n",
    "y_pred = lin_reg.predict(X_test) # Predicting the yhat \n",
    "y_pred\n"
   ]
  },
  {
   "cell_type": "code",
   "execution_count": 105,
   "metadata": {},
   "outputs": [
    {
     "data": {
      "text/plain": [
       "54.48395381294719"
      ]
     },
     "execution_count": 105,
     "metadata": {},
     "output_type": "execute_result"
    }
   ],
   "source": [
    "# MAPE\n",
    "np.mean(np.abs(y_test - y_pred)/y_test)*100"
   ]
  },
  {
   "cell_type": "markdown",
   "metadata": {},
   "source": [
    "### Observation : \n",
    "#### MAPE is a straightforward metric, meaning a 54.48% MAPE represents the average deviation between the forecasted value and actual values was 54.48%, regardless of whether the deviation was positive or negative."
   ]
  }
 ],
 "metadata": {
  "kernelspec": {
   "display_name": "Python 3 (ipykernel)",
   "language": "python",
   "name": "python3"
  },
  "language_info": {
   "codemirror_mode": {
    "name": "ipython",
    "version": 3
   },
   "file_extension": ".py",
   "mimetype": "text/x-python",
   "name": "python",
   "nbconvert_exporter": "python",
   "pygments_lexer": "ipython3",
   "version": "3.9.7"
  }
 },
 "nbformat": 4,
 "nbformat_minor": 4
}
